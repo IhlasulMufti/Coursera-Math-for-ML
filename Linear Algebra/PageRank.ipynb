{
  "cells": [
    {
      "cell_type": "markdown",
      "metadata": {
        "collapsed": true,
        "id": "09d3B9RCEVz-"
      },
      "source": [
        "# PageRank\n",
        "In this notebook, you'll build on your knowledge of eigenvectors and eigenvalues by exploring the PageRank algorithm.\n",
        "The notebook is in two parts, the first is a worksheet to get you up to speed with how the algorithm works - here we will look at a micro-internet with fewer than 10 websites and see what it does and what can go wrong.\n",
        "The second is an assessment which will test your application of eigentheory to this problem by writing code and calculating the page rank of a large network representing a sub-section of the internet."
      ]
    },
    {
      "cell_type": "markdown",
      "metadata": {
        "id": "kKa0lr1bEV0F"
      },
      "source": [
        "## Part 1 - Worksheet\n",
        "### Introduction\n",
        "\n",
        "PageRank (developed by Larry Page and Sergey Brin) revolutionized web search by generating a\n",
        "ranked list of web pages based on the underlying connectivity of the web. The PageRank algorithm is\n",
        "based on an ideal random web surfer who, when reaching a page, goes to the next page by clicking on a\n",
        "link. The surfer has equal probability of clicking any link on the page and, when reaching a page with no\n",
        "links, has equal probability of moving to any other page by typing in its URL. In addition, the surfer may\n",
        "occasionally choose to type in a random URL instead of following the links on a page. The PageRank is\n",
        "the ranked order of the pages from the most to the least probable page the surfer will be viewing.\n"
      ]
    },
    {
      "cell_type": "code",
      "execution_count": null,
      "metadata": {
        "id": "2wK1nT6ZEV0H",
        "outputId": "0b037a2a-6ae3-4fc5-c227-bdf03f63c16f"
      },
      "outputs": [
        {
          "name": "stdout",
          "output_type": "stream",
          "text": [
            "Populating the interactive namespace from numpy and matplotlib\n"
          ]
        }
      ],
      "source": [
        "# Before we begin, let's load the libraries.\n",
        "%pylab notebook\n",
        "import numpy as np\n",
        "import numpy.linalg as la\n",
        "from readonly.PageRankFunctions import *\n",
        "np.set_printoptions(suppress=True)"
      ]
    },
    {
      "cell_type": "markdown",
      "metadata": {
        "id": "OGIGtZyrEV0L"
      },
      "source": [
        "### PageRank as a linear algebra problem\n",
        "Let's imagine a micro-internet, with just 6 websites (**A**vocado, **B**ullseye, **C**atBabel, **D**romeda, **e**Tings, and **F**aceSpace).\n",
        "Each website links to some of the others, and this forms a network as shown,\n",
        "\n",
        "![A Micro-Internet](readonly/internet.png \"A Micro-Internet\")\n",
        "\n",
        "The design principle of PageRank is that important websites will be linked to by important websites.\n",
        "This somewhat recursive principle will form the basis of our thinking.\n",
        "\n",
        "Imagine we have 100 *Procrastinating Pat*s on our micro-internet, each viewing a single website at a time.\n",
        "Each minute the Pats follow a link on their website to another site on the micro-internet.\n",
        "After a while, the websites that are most linked to will have more Pats visiting them, and in the long run, each minute for every Pat that leaves a website, another will enter keeping the total numbers of Pats on each website constant.\n",
        "The PageRank is simply the ranking of websites by how many Pats they have on them at the end of this process.\n",
        "\n",
        "We represent the number of Pats on each website with the vector,\n",
        "$$\\mathbf{r} = \\begin{bmatrix} r_A \\\\ r_B \\\\ r_C \\\\ r_D \\\\ r_E \\\\ r_F \\end{bmatrix}$$\n",
        "And say that the number of Pats on each website in minute $i+1$ is related to those at minute $i$ by the matrix transformation\n",
        "\n",
        "$$ \\mathbf{r}^{(i+1)} = L \\,\\mathbf{r}^{(i)}$$\n",
        "with the matrix $L$ taking the form,\n",
        "$$ L = \\begin{bmatrix}\n",
        "L_{A→A} & L_{B→A} & L_{C→A} & L_{D→A} & L_{E→A} & L_{F→A} \\\\\n",
        "L_{A→B} & L_{B→B} & L_{C→B} & L_{D→B} & L_{E→B} & L_{F→B} \\\\\n",
        "L_{A→C} & L_{B→C} & L_{C→C} & L_{D→C} & L_{E→C} & L_{F→C} \\\\\n",
        "L_{A→D} & L_{B→D} & L_{C→D} & L_{D→D} & L_{E→D} & L_{F→D} \\\\\n",
        "L_{A→E} & L_{B→E} & L_{C→E} & L_{D→E} & L_{E→E} & L_{F→E} \\\\\n",
        "L_{A→F} & L_{B→F} & L_{C→F} & L_{D→F} & L_{E→F} & L_{F→F} \\\\\n",
        "\\end{bmatrix}\n",
        "$$\n",
        "where the columns represent the probability of leaving a website for any other website, and sum to one.\n",
        "The rows determine how likely you are to enter a website from any other, though these need not add to one.\n",
        "The long time behaviour of this system is when $ \\mathbf{r}^{(i+1)} = \\mathbf{r}^{(i)}$, so we'll drop the superscripts here, and that allows us to write,\n",
        "$$ L \\,\\mathbf{r} = \\mathbf{r}$$\n",
        "\n",
        "which is an eigenvalue equation for the matrix $L$, with eigenvalue 1 (this is guaranteed by the probabalistic structure of the matrix $L$).\n",
        "\n",
        "Complete the matrix $L$ below, we've left out the column for which websites the *FaceSpace* website (F) links to.\n",
        "Remember, this is the probability to click on another website from this one, so each column should add to one (by scaling by the number of links)."
      ]
    },
    {
      "cell_type": "code",
      "execution_count": null,
      "metadata": {
        "collapsed": true,
        "id": "pJs1ri-oEV0N"
      },
      "outputs": [],
      "source": [
        "# Replace the ??? here with the probability of clicking a link to each website when leaving Website F (FaceSpace).\n",
        "L = np.array([[0,   1/2, 1/3, 0, 0,   0 ],\n",
        "              [1/3, 0,   0,   0, 1/2, 0 ],\n",
        "              [1/3, 1/2, 0,   1, 0,   1/2 ],\n",
        "              [1/3, 0,   1/3, 0, 1/2, 1/2 ],\n",
        "              [0,   0,   0,   0, 0,   0 ],\n",
        "              [0,   0,   1/3, 0, 0,   0 ]])"
      ]
    },
    {
      "cell_type": "markdown",
      "metadata": {
        "id": "ZG8AzfuwEV0O"
      },
      "source": [
        "In principle, we could use a linear algebra library, as below, to calculate the eigenvalues and vectors.\n",
        "And this would work for a small system. But this gets unmanagable for large systems.\n",
        "And since we only care about the principal eigenvector (the one with the largest eigenvalue, which will be 1 in this case), we can use the *power iteration method* which will scale better, and is faster for large systems.\n",
        "\n",
        "Use the code below to peek at the PageRank for this micro-internet."
      ]
    },
    {
      "cell_type": "code",
      "execution_count": null,
      "metadata": {
        "id": "wIRLawlfEV0P",
        "outputId": "0464df9d-6baf-4c4c-c2c5-b4c5d1dc7396"
      },
      "outputs": [
        {
          "data": {
            "text/plain": [
              "array([ 16.        ,   5.33333333,  40.        ,  25.33333333,\n",
              "         0.        ,  13.33333333])"
            ]
          },
          "execution_count": 3,
          "metadata": {},
          "output_type": "execute_result"
        }
      ],
      "source": [
        "eVals, eVecs = la.eig(L) # Gets the eigenvalues and vectors\n",
        "order = np.absolute(eVals).argsort()[::-1] # Orders them by their eigenvalues\n",
        "eVals = eVals[order]\n",
        "eVecs = eVecs[:,order]\n",
        "\n",
        "r = eVecs[:, 0] # Sets r to be the principal eigenvector\n",
        "100 * np.real(r / np.sum(r)) # Make this eigenvector sum to one, then multiply by 100 Procrastinating Pats"
      ]
    },
    {
      "cell_type": "markdown",
      "metadata": {
        "id": "ry-lYmTqEV0Q"
      },
      "source": [
        "We can see from this list, the number of Procrastinating Pats that we expect to find on each website after long times.\n",
        "Putting them in order of *popularity* (based on this metric), the PageRank of this micro-internet is:\n",
        "\n",
        "**C**atBabel, **D**romeda, **A**vocado, **F**aceSpace, **B**ullseye, **e**Tings\n",
        "\n",
        "Referring back to the micro-internet diagram, is this what you would have expected?\n",
        "Convince yourself that based on which pages seem important given which others link to them, that this is a sensible ranking.\n",
        "\n",
        "Let's now try to get the same result using the Power-Iteration method that was covered in the video.\n",
        "This method will be much better at dealing with large systems.\n",
        "\n",
        "First let's set up our initial vector, $\\mathbf{r}^{(0)}$, so that we have our 100 Procrastinating Pats equally distributed on each of our 6 websites."
      ]
    },
    {
      "cell_type": "code",
      "execution_count": null,
      "metadata": {
        "id": "aEazbk0pEV0Q",
        "outputId": "f5a564a0-5f7c-45c9-f604-4c7b04dd648a"
      },
      "outputs": [
        {
          "data": {
            "text/plain": [
              "array([ 16.66666667,  16.66666667,  16.66666667,  16.66666667,\n",
              "        16.66666667,  16.66666667])"
            ]
          },
          "execution_count": 4,
          "metadata": {},
          "output_type": "execute_result"
        }
      ],
      "source": [
        "r = 100 * np.ones(6) / 6 # Sets up this vector (6 entries of 1/6 × 100 each)\n",
        "r # Shows it's value"
      ]
    },
    {
      "cell_type": "markdown",
      "metadata": {
        "id": "8XSzHtHDEV0R"
      },
      "source": [
        "Next, let's update the vector to the next minute, with the matrix $L$.\n",
        "Run the following cell multiple times, until the answer stabilises."
      ]
    },
    {
      "cell_type": "code",
      "execution_count": null,
      "metadata": {
        "id": "4Us-_PWmEV0R",
        "outputId": "d113328d-1544-4e1c-aa3d-bf3af4985be7"
      },
      "outputs": [
        {
          "data": {
            "text/plain": [
              "array([ 16.04272016,   5.31509985,  39.95182634,  25.32152582,\n",
              "         0.        ,  13.36882783])"
            ]
          },
          "execution_count": 16,
          "metadata": {},
          "output_type": "execute_result"
        }
      ],
      "source": [
        "r = L @ r # Apply matrix L to r\n",
        "r # Show it's value\n",
        "# Re-run this cell multiple times to converge to the correct answer."
      ]
    },
    {
      "cell_type": "markdown",
      "metadata": {
        "id": "FWuGzVM7EV0S"
      },
      "source": [
        "We can automate applying this matrix multiple times as follows,"
      ]
    },
    {
      "cell_type": "code",
      "execution_count": null,
      "metadata": {
        "id": "IajYUcTiEV0S",
        "outputId": "f002153b-afd5-43be-d682-42cf2db5ea72"
      },
      "outputs": [
        {
          "data": {
            "text/plain": [
              "array([ 16.        ,   5.33333333,  40.        ,  25.33333333,\n",
              "         0.        ,  13.33333333])"
            ]
          },
          "execution_count": 17,
          "metadata": {},
          "output_type": "execute_result"
        }
      ],
      "source": [
        "r = 100 * np.ones(6) / 6 # Sets up this vector (6 entries of 1/6 × 100 each)\n",
        "for i in np.arange(100) : # Repeat 100 times\n",
        "    r = L @ r\n",
        "r"
      ]
    },
    {
      "cell_type": "markdown",
      "metadata": {
        "id": "OeOnmY62EV0S"
      },
      "source": [
        "Or even better, we can keep running until we get to the required tolerance."
      ]
    },
    {
      "cell_type": "code",
      "execution_count": null,
      "metadata": {
        "id": "kU7q8-qCEV0T",
        "outputId": "dbe0b6d8-701f-42cc-f3c3-aa585aff8bf2"
      },
      "outputs": [
        {
          "name": "stdout",
          "output_type": "stream",
          "text": [
            "18 iterations to convergence.\n"
          ]
        },
        {
          "data": {
            "text/plain": [
              "array([ 16.00149917,   5.33252025,  39.99916911,  25.3324738 ,\n",
              "         0.        ,  13.33433767])"
            ]
          },
          "execution_count": 20,
          "metadata": {},
          "output_type": "execute_result"
        }
      ],
      "source": [
        "r = 100 * np.ones(6) / 6 # Sets up this vector (6 entries of 1/6 × 100 each)\n",
        "lastR = r\n",
        "r = L @ r\n",
        "i = 0\n",
        "while la.norm(lastR - r) > 0.01 :\n",
        "    lastR = r\n",
        "    r = L @ r\n",
        "    i += 1\n",
        "print(str(i) + \" iterations to convergence.\")\n",
        "r"
      ]
    },
    {
      "cell_type": "markdown",
      "metadata": {
        "id": "1HkVk4cVEV0T"
      },
      "source": [
        "See how the PageRank order is established fairly quickly, and the vector converges on the value we calculated earlier after a few tens of repeats.\n",
        "\n",
        "Congratulations! You've just calculated your first PageRank!"
      ]
    },
    {
      "cell_type": "markdown",
      "metadata": {
        "id": "tJZr02wkEV0U"
      },
      "source": [
        "### Damping Parameter\n",
        "The system we just studied converged fairly quickly to the correct answer.\n",
        "Let's consider an extension to our micro-internet where things start to go wrong.\n",
        "\n",
        "Say a new website is added to the micro-internet: *Geoff's* Website.\n",
        "This website is linked to by *FaceSpace* and only links to itself.\n",
        "![An Expanded Micro-Internet](readonly/internet2.png \"An Expanded Micro-Internet\")\n",
        "\n",
        "Intuitively, only *FaceSpace*, which is in the bottom half of the page rank, links to this website amongst the two others it links to,\n",
        "so we might expect *Geoff's* site to have a correspondingly low PageRank score.\n",
        "\n",
        "Build the new $L$ matrix for the expanded micro-internet, and use Power-Iteration on the Procrastinating Pat vector.\n",
        "See what happens…"
      ]
    },
    {
      "cell_type": "code",
      "execution_count": null,
      "metadata": {
        "collapsed": true,
        "id": "T8dTvh4CEV0U"
      },
      "outputs": [],
      "source": [
        " # We'll call this one L2, to distinguish it from the previous L.\n",
        "L2 = np.array([[0,   1/2, 1/3, 0, 0,   0, 0 ],\n",
        "               [1/3, 0,   0,   0, 1/2, 0, 0 ],\n",
        "               [1/3, 1/2, 0,   1, 0,   1/3, 0 ],\n",
        "               [1/3, 0,   1/3, 0, 1/2, 1/3, 0 ],\n",
        "               [0,   0,   0,   0, 0,   0, 0 ],\n",
        "               [0,   0,   1/3, 0, 0,   0, 0 ],\n",
        "               [0,   0,   0,   0, 0,   1/3, 1 ]])"
      ]
    },
    {
      "cell_type": "code",
      "execution_count": null,
      "metadata": {
        "id": "hh6RG04HEV0U",
        "outputId": "84c48d73-584b-4221-f92e-3f51fc698b3e"
      },
      "outputs": [
        {
          "name": "stdout",
          "output_type": "stream",
          "text": [
            "131 iterations to convergence.\n"
          ]
        },
        {
          "data": {
            "text/plain": [
              "array([  0.03046998,   0.01064323,   0.07126612,   0.04423198,\n",
              "         0.        ,   0.02489342,  99.81849527])"
            ]
          },
          "execution_count": 23,
          "metadata": {},
          "output_type": "execute_result"
        }
      ],
      "source": [
        "r = 100 * np.ones(7) / 7 # Sets up this vector (6 entries of 1/6 × 100 each)\n",
        "lastR = r\n",
        "r = L2 @ r\n",
        "i = 0\n",
        "while la.norm(lastR - r) > 0.01 :\n",
        "    lastR = r\n",
        "    r = L2 @ r\n",
        "    i += 1\n",
        "print(str(i) + \" iterations to convergence.\")\n",
        "r"
      ]
    },
    {
      "cell_type": "markdown",
      "metadata": {
        "id": "J-MZO11sEV0V"
      },
      "source": [
        "That's no good! *Geoff* seems to be taking all the traffic on the micro-internet, and somehow coming at the top of the PageRank.\n",
        "This behaviour can be understood, because once a Pat get's to *Geoff's* Website, they can't leave, as all links head back to Geoff.\n",
        "\n",
        "To combat this, we can add a small probability that the Procrastinating Pats don't follow any link on a webpage, but instead visit a website on the micro-internet at random.\n",
        "We'll say the probability of them following a link is $d$ and the probability of choosing a random website is therefore $1-d$.\n",
        "We can use a new matrix to work out where the Pat's visit each minute.\n",
        "$$ M = d \\, L + \\frac{1-d}{n} \\, J $$\n",
        "where $J$ is an $n\\times n$ matrix where every element is one.\n",
        "\n",
        "If $d$ is one, we have the case we had previously, whereas if $d$ is zero, we will always visit a random webpage and therefore all webpages will be equally likely and equally ranked.\n",
        "For this extension to work best, $1-d$ should be somewhat small - though we won't go into a discussion about exactly how small.\n",
        "\n",
        "Let's retry this PageRank with this extension."
      ]
    },
    {
      "cell_type": "code",
      "execution_count": null,
      "metadata": {
        "collapsed": true,
        "id": "S08wYW4LEV0W"
      },
      "outputs": [],
      "source": [
        "d = 0.5 # Feel free to play with this parameter after running the code once.\n",
        "M = d * L2 + (1-d)/7 * np.ones([7, 7]) # np.ones() is the J matrix, with ones for each entry."
      ]
    },
    {
      "cell_type": "code",
      "execution_count": null,
      "metadata": {
        "id": "f1xTPJ22EV0W",
        "outputId": "fd009689-6d5e-4e57-dad1-f3ddb9a09978"
      },
      "outputs": [
        {
          "name": "stdout",
          "output_type": "stream",
          "text": [
            "8 iterations to convergence.\n"
          ]
        },
        {
          "data": {
            "text/plain": [
              "array([ 13.68217054,  11.20902965,  22.41964343,  16.7593433 ,\n",
              "         7.14285714,  10.87976354,  17.90719239])"
            ]
          },
          "execution_count": 28,
          "metadata": {},
          "output_type": "execute_result"
        }
      ],
      "source": [
        "r = 100 * np.ones(7) / 7 # Sets up this vector (6 entries of 1/6 × 100 each)\n",
        "lastR = r\n",
        "r = M @ r\n",
        "i = 0\n",
        "while la.norm(lastR - r) > 0.01 :\n",
        "    lastR = r\n",
        "    r = M @ r\n",
        "    i += 1\n",
        "print(str(i) + \" iterations to convergence.\")\n",
        "r"
      ]
    },
    {
      "cell_type": "markdown",
      "metadata": {
        "id": "w1fWQg0JEV0X"
      },
      "source": [
        "This is certainly better, the PageRank gives sensible numbers for the Procrastinating Pats that end up on each webpage.\n",
        "This method still predicts Geoff has a high ranking webpage however.\n",
        "This could be seen as a consequence of using a small network. We could also get around the problem by not counting self-links when producing the L matrix (an if a website has no outgoing links, make it link to all websites equally).\n",
        "We won't look further down this route, as this is in the realm of improvements to PageRank, rather than eigenproblems.\n",
        "\n",
        "You are now in a good position, having gained an understanding of PageRank, to produce your own code to calculate the PageRank of a website with thousands of entries.\n",
        "\n",
        "Good Luck!"
      ]
    },
    {
      "cell_type": "markdown",
      "metadata": {
        "id": "26aUz5UZEV0X"
      },
      "source": [
        "## Part 2 - Assessment\n",
        "In this assessment, you will be asked to produce a function that can calculate the PageRank for an arbitrarily large probability matrix.\n",
        "This, the final assignment of the course, will give less guidance than previous assessments.\n",
        "You will be expected to utilise code from earlier in the worksheet and re-purpose it to your needs.\n",
        "\n",
        "### How to submit\n",
        "Edit the code in the cell below to complete the assignment.\n",
        "Once you are finished and happy with it, press the *Submit Assignment* button at the top of this notebook.\n",
        "\n",
        "Please don't change any of the function names, as these will be checked by the grading script.\n",
        "\n",
        "If you have further questions about submissions or programming assignments, here is a [list](https://www.coursera.org/learn/linear-algebra-machine-learning/discussions/weeks/1/threads/jB4klkn5EeibtBIQyzFmQg) of Q&A. You can also raise an issue on the discussion forum. Good luck!"
      ]
    },
    {
      "cell_type": "code",
      "execution_count": null,
      "metadata": {
        "collapsed": true,
        "id": "-OBymZFqEV0Y"
      },
      "outputs": [],
      "source": [
        "# PACKAGE\n",
        "# Here are the imports again, just in case you need them.\n",
        "# There is no need to edit or submit this cell.\n",
        "import numpy as np\n",
        "import numpy.linalg as la\n",
        "from readonly.PageRankFunctions import *\n",
        "np.set_printoptions(suppress=True)"
      ]
    },
    {
      "cell_type": "code",
      "execution_count": null,
      "metadata": {
        "collapsed": true,
        "id": "LN3BrnuCEV0Y"
      },
      "outputs": [],
      "source": [
        "# GRADED FUNCTION\n",
        "# Complete this function to provide the PageRank for an arbitrarily sized internet.\n",
        "# I.e. the principal eigenvector of the damped system, using the power iteration method.\n",
        "# (Normalisation doesn't matter here)\n",
        "# The functions inputs are the linkMatrix, and d the damping parameter - as defined in this worksheet.\n",
        "# (The damping parameter, d, will be set by the function - no need to set this yourself.)\n",
        "def pageRank(linkMatrix, d) :\n",
        "    n = linkMatrix.shape[0]\n",
        "\n",
        "    M = d * linkMatrix + (1-d)/n * np.ones([n, n]) # np.ones() is the J matrix, with ones for each entry.\n",
        "    \n",
        "    r = 100 * np.ones(n) / n # Sets up this vector (6 entries of 1/6 × 100 each)\n",
        "    lastR = r\n",
        "    r = M @ r\n",
        "    i = 0\n",
        "    while la.norm(lastR - r) > 0.01 :\n",
        "        lastR = r\n",
        "        r = M @ r\n",
        "        i += 1\n",
        "    print(str(i) + \" iterations to convergence.\")\n",
        "    \n",
        "    return r\n"
      ]
    },
    {
      "cell_type": "markdown",
      "metadata": {
        "id": "GfJR9mGEEV0Z"
      },
      "source": [
        "## Test your code before submission\n",
        "To test the code you've written above, run the cell (select the cell above, then press the play button [ ▶| ] or press shift-enter).\n",
        "You can then use the code below to test out your function.\n",
        "You don't need to submit this cell; you can edit and run it as much as you like."
      ]
    },
    {
      "cell_type": "code",
      "execution_count": null,
      "metadata": {
        "id": "Id-n2zVQEV0Z",
        "outputId": "5ac86de1-cbe2-414b-8820-59380b5d6d1d"
      },
      "outputs": [
        {
          "data": {
            "text/plain": [
              "array([[ 0. ,  0.2,  0. ,  0.2,  0.2],\n",
              "       [ 0.5,  0.2,  0. ,  0.2,  0.2],\n",
              "       [ 0. ,  0.2,  0. ,  0.2,  0.2],\n",
              "       [ 0.5,  0.2,  0. ,  0.2,  0.2],\n",
              "       [ 0. ,  0.2,  1. ,  0.2,  0.2]])"
            ]
          },
          "execution_count": 34,
          "metadata": {},
          "output_type": "execute_result"
        }
      ],
      "source": [
        "# Use the following function to generate internets of different sizes.\n",
        "generate_internet(5)"
      ]
    },
    {
      "cell_type": "code",
      "execution_count": null,
      "metadata": {
        "collapsed": true,
        "id": "NGrhlopVEV0a"
      },
      "outputs": [],
      "source": [
        "# Test your PageRank method against the built in \"eig\" method.\n",
        "# You should see yours is a lot faster for large internets\n",
        "L = generate_internet(10)"
      ]
    },
    {
      "cell_type": "code",
      "execution_count": null,
      "metadata": {
        "id": "LEEy3W2-EV0a",
        "outputId": "4ad27e76-c5bd-4bdd-8791-f54209af479b"
      },
      "outputs": [
        {
          "name": "stdout",
          "output_type": "stream",
          "text": [
            "69 iterations to convergence.\n"
          ]
        },
        {
          "data": {
            "text/plain": [
              "array([  0.01233658,   0.02197933,   0.00895719,   0.01194489,\n",
              "        99.91468622,   0.00243073,   0.00243073,   0.00937215,\n",
              "         0.01052228,   0.0053399 ])"
            ]
          },
          "execution_count": 40,
          "metadata": {},
          "output_type": "execute_result"
        }
      ],
      "source": [
        "pageRank(L, 1)"
      ]
    },
    {
      "cell_type": "code",
      "execution_count": null,
      "metadata": {
        "id": "AXDlh13KEV0b",
        "outputId": "e200b604-4cfa-49ac-a8e6-7c3aadda0600"
      },
      "outputs": [
        {
          "data": {
            "text/plain": [
              "array([  0.00000014,   0.00000024,   0.00000011,   0.00000013,\n",
              "        99.99999899,   0.00000003,   0.00000003,   0.00000012,\n",
              "         0.00000012,   0.00000007])"
            ]
          },
          "execution_count": 41,
          "metadata": {},
          "output_type": "execute_result"
        }
      ],
      "source": [
        "# Do note, this is calculating the eigenvalues of the link matrix, L,\n",
        "# without any damping. It may give different results that your pageRank function.\n",
        "# If you wish, you could modify this cell to include damping.\n",
        "# (There is no credit for this though)\n",
        "eVals, eVecs = la.eig(L) # Gets the eigenvalues and vectors\n",
        "order = np.absolute(eVals).argsort()[::-1] # Orders them by their eigenvalues\n",
        "eVals = eVals[order]\n",
        "eVecs = eVecs[:,order]\n",
        "\n",
        "r = eVecs[:, 0]\n",
        "100 * np.real(r / np.sum(r))"
      ]
    },
    {
      "cell_type": "code",
      "execution_count": null,
      "metadata": {
        "id": "MRn24BE5EV0b",
        "outputId": "ee1c92ed-6e98-44b1-9040-2375580b4045"
      },
      "outputs": [
        {
          "name": "stdout",
          "output_type": "stream",
          "text": [
            "Populating the interactive namespace from numpy and matplotlib\n",
            "40 iterations to convergence.\n"
          ]
        },
        {
          "data": {
            "application/javascript": [
              "/* Put everything inside the global mpl namespace */\n",
              "window.mpl = {};\n",
              "\n",
              "\n",
              "mpl.get_websocket_type = function() {\n",
              "    if (typeof(WebSocket) !== 'undefined') {\n",
              "        return WebSocket;\n",
              "    } else if (typeof(MozWebSocket) !== 'undefined') {\n",
              "        return MozWebSocket;\n",
              "    } else {\n",
              "        alert('Your browser does not have WebSocket support.' +\n",
              "              'Please try Chrome, Safari or Firefox ≥ 6. ' +\n",
              "              'Firefox 4 and 5 are also supported but you ' +\n",
              "              'have to enable WebSockets in about:config.');\n",
              "    };\n",
              "}\n",
              "\n",
              "mpl.figure = function(figure_id, websocket, ondownload, parent_element) {\n",
              "    this.id = figure_id;\n",
              "\n",
              "    this.ws = websocket;\n",
              "\n",
              "    this.supports_binary = (this.ws.binaryType != undefined);\n",
              "\n",
              "    if (!this.supports_binary) {\n",
              "        var warnings = document.getElementById(\"mpl-warnings\");\n",
              "        if (warnings) {\n",
              "            warnings.style.display = 'block';\n",
              "            warnings.textContent = (\n",
              "                \"This browser does not support binary websocket messages. \" +\n",
              "                    \"Performance may be slow.\");\n",
              "        }\n",
              "    }\n",
              "\n",
              "    this.imageObj = new Image();\n",
              "\n",
              "    this.context = undefined;\n",
              "    this.message = undefined;\n",
              "    this.canvas = undefined;\n",
              "    this.rubberband_canvas = undefined;\n",
              "    this.rubberband_context = undefined;\n",
              "    this.format_dropdown = undefined;\n",
              "\n",
              "    this.image_mode = 'full';\n",
              "\n",
              "    this.root = $('<div/>');\n",
              "    this._root_extra_style(this.root)\n",
              "    this.root.attr('style', 'display: inline-block');\n",
              "\n",
              "    $(parent_element).append(this.root);\n",
              "\n",
              "    this._init_header(this);\n",
              "    this._init_canvas(this);\n",
              "    this._init_toolbar(this);\n",
              "\n",
              "    var fig = this;\n",
              "\n",
              "    this.waiting = false;\n",
              "\n",
              "    this.ws.onopen =  function () {\n",
              "            fig.send_message(\"supports_binary\", {value: fig.supports_binary});\n",
              "            fig.send_message(\"send_image_mode\", {});\n",
              "            if (mpl.ratio != 1) {\n",
              "                fig.send_message(\"set_dpi_ratio\", {'dpi_ratio': mpl.ratio});\n",
              "            }\n",
              "            fig.send_message(\"refresh\", {});\n",
              "        }\n",
              "\n",
              "    this.imageObj.onload = function() {\n",
              "            if (fig.image_mode == 'full') {\n",
              "                // Full images could contain transparency (where diff images\n",
              "                // almost always do), so we need to clear the canvas so that\n",
              "                // there is no ghosting.\n",
              "                fig.context.clearRect(0, 0, fig.canvas.width, fig.canvas.height);\n",
              "            }\n",
              "            fig.context.drawImage(fig.imageObj, 0, 0);\n",
              "        };\n",
              "\n",
              "    this.imageObj.onunload = function() {\n",
              "        this.ws.close();\n",
              "    }\n",
              "\n",
              "    this.ws.onmessage = this._make_on_message_function(this);\n",
              "\n",
              "    this.ondownload = ondownload;\n",
              "}\n",
              "\n",
              "mpl.figure.prototype._init_header = function() {\n",
              "    var titlebar = $(\n",
              "        '<div class=\"ui-dialog-titlebar ui-widget-header ui-corner-all ' +\n",
              "        'ui-helper-clearfix\"/>');\n",
              "    var titletext = $(\n",
              "        '<div class=\"ui-dialog-title\" style=\"width: 100%; ' +\n",
              "        'text-align: center; padding: 3px;\"/>');\n",
              "    titlebar.append(titletext)\n",
              "    this.root.append(titlebar);\n",
              "    this.header = titletext[0];\n",
              "}\n",
              "\n",
              "\n",
              "\n",
              "mpl.figure.prototype._canvas_extra_style = function(canvas_div) {\n",
              "\n",
              "}\n",
              "\n",
              "\n",
              "mpl.figure.prototype._root_extra_style = function(canvas_div) {\n",
              "\n",
              "}\n",
              "\n",
              "mpl.figure.prototype._init_canvas = function() {\n",
              "    var fig = this;\n",
              "\n",
              "    var canvas_div = $('<div/>');\n",
              "\n",
              "    canvas_div.attr('style', 'position: relative; clear: both; outline: 0');\n",
              "\n",
              "    function canvas_keyboard_event(event) {\n",
              "        return fig.key_event(event, event['data']);\n",
              "    }\n",
              "\n",
              "    canvas_div.keydown('key_press', canvas_keyboard_event);\n",
              "    canvas_div.keyup('key_release', canvas_keyboard_event);\n",
              "    this.canvas_div = canvas_div\n",
              "    this._canvas_extra_style(canvas_div)\n",
              "    this.root.append(canvas_div);\n",
              "\n",
              "    var canvas = $('<canvas/>');\n",
              "    canvas.addClass('mpl-canvas');\n",
              "    canvas.attr('style', \"left: 0; top: 0; z-index: 0; outline: 0\")\n",
              "\n",
              "    this.canvas = canvas[0];\n",
              "    this.context = canvas[0].getContext(\"2d\");\n",
              "\n",
              "    var backingStore = this.context.backingStorePixelRatio ||\n",
              "\tthis.context.webkitBackingStorePixelRatio ||\n",
              "\tthis.context.mozBackingStorePixelRatio ||\n",
              "\tthis.context.msBackingStorePixelRatio ||\n",
              "\tthis.context.oBackingStorePixelRatio ||\n",
              "\tthis.context.backingStorePixelRatio || 1;\n",
              "\n",
              "    mpl.ratio = (window.devicePixelRatio || 1) / backingStore;\n",
              "\n",
              "    var rubberband = $('<canvas/>');\n",
              "    rubberband.attr('style', \"position: absolute; left: 0; top: 0; z-index: 1;\")\n",
              "\n",
              "    var pass_mouse_events = true;\n",
              "\n",
              "    canvas_div.resizable({\n",
              "        start: function(event, ui) {\n",
              "            pass_mouse_events = false;\n",
              "        },\n",
              "        resize: function(event, ui) {\n",
              "            fig.request_resize(ui.size.width, ui.size.height);\n",
              "        },\n",
              "        stop: function(event, ui) {\n",
              "            pass_mouse_events = true;\n",
              "            fig.request_resize(ui.size.width, ui.size.height);\n",
              "        },\n",
              "    });\n",
              "\n",
              "    function mouse_event_fn(event) {\n",
              "        if (pass_mouse_events)\n",
              "            return fig.mouse_event(event, event['data']);\n",
              "    }\n",
              "\n",
              "    rubberband.mousedown('button_press', mouse_event_fn);\n",
              "    rubberband.mouseup('button_release', mouse_event_fn);\n",
              "    // Throttle sequential mouse events to 1 every 20ms.\n",
              "    rubberband.mousemove('motion_notify', mouse_event_fn);\n",
              "\n",
              "    rubberband.mouseenter('figure_enter', mouse_event_fn);\n",
              "    rubberband.mouseleave('figure_leave', mouse_event_fn);\n",
              "\n",
              "    canvas_div.on(\"wheel\", function (event) {\n",
              "        event = event.originalEvent;\n",
              "        event['data'] = 'scroll'\n",
              "        if (event.deltaY < 0) {\n",
              "            event.step = 1;\n",
              "        } else {\n",
              "            event.step = -1;\n",
              "        }\n",
              "        mouse_event_fn(event);\n",
              "    });\n",
              "\n",
              "    canvas_div.append(canvas);\n",
              "    canvas_div.append(rubberband);\n",
              "\n",
              "    this.rubberband = rubberband;\n",
              "    this.rubberband_canvas = rubberband[0];\n",
              "    this.rubberband_context = rubberband[0].getContext(\"2d\");\n",
              "    this.rubberband_context.strokeStyle = \"#000000\";\n",
              "\n",
              "    this._resize_canvas = function(width, height) {\n",
              "        // Keep the size of the canvas, canvas container, and rubber band\n",
              "        // canvas in synch.\n",
              "        canvas_div.css('width', width)\n",
              "        canvas_div.css('height', height)\n",
              "\n",
              "        canvas.attr('width', width * mpl.ratio);\n",
              "        canvas.attr('height', height * mpl.ratio);\n",
              "        canvas.attr('style', 'width: ' + width + 'px; height: ' + height + 'px;');\n",
              "\n",
              "        rubberband.attr('width', width);\n",
              "        rubberband.attr('height', height);\n",
              "    }\n",
              "\n",
              "    // Set the figure to an initial 600x600px, this will subsequently be updated\n",
              "    // upon first draw.\n",
              "    this._resize_canvas(600, 600);\n",
              "\n",
              "    // Disable right mouse context menu.\n",
              "    $(this.rubberband_canvas).bind(\"contextmenu\",function(e){\n",
              "        return false;\n",
              "    });\n",
              "\n",
              "    function set_focus () {\n",
              "        canvas.focus();\n",
              "        canvas_div.focus();\n",
              "    }\n",
              "\n",
              "    window.setTimeout(set_focus, 100);\n",
              "}\n",
              "\n",
              "mpl.figure.prototype._init_toolbar = function() {\n",
              "    var fig = this;\n",
              "\n",
              "    var nav_element = $('<div/>')\n",
              "    nav_element.attr('style', 'width: 100%');\n",
              "    this.root.append(nav_element);\n",
              "\n",
              "    // Define a callback function for later on.\n",
              "    function toolbar_event(event) {\n",
              "        return fig.toolbar_button_onclick(event['data']);\n",
              "    }\n",
              "    function toolbar_mouse_event(event) {\n",
              "        return fig.toolbar_button_onmouseover(event['data']);\n",
              "    }\n",
              "\n",
              "    for(var toolbar_ind in mpl.toolbar_items) {\n",
              "        var name = mpl.toolbar_items[toolbar_ind][0];\n",
              "        var tooltip = mpl.toolbar_items[toolbar_ind][1];\n",
              "        var image = mpl.toolbar_items[toolbar_ind][2];\n",
              "        var method_name = mpl.toolbar_items[toolbar_ind][3];\n",
              "\n",
              "        if (!name) {\n",
              "            // put a spacer in here.\n",
              "            continue;\n",
              "        }\n",
              "        var button = $('<button/>');\n",
              "        button.addClass('ui-button ui-widget ui-state-default ui-corner-all ' +\n",
              "                        'ui-button-icon-only');\n",
              "        button.attr('role', 'button');\n",
              "        button.attr('aria-disabled', 'false');\n",
              "        button.click(method_name, toolbar_event);\n",
              "        button.mouseover(tooltip, toolbar_mouse_event);\n",
              "\n",
              "        var icon_img = $('<span/>');\n",
              "        icon_img.addClass('ui-button-icon-primary ui-icon');\n",
              "        icon_img.addClass(image);\n",
              "        icon_img.addClass('ui-corner-all');\n",
              "\n",
              "        var tooltip_span = $('<span/>');\n",
              "        tooltip_span.addClass('ui-button-text');\n",
              "        tooltip_span.html(tooltip);\n",
              "\n",
              "        button.append(icon_img);\n",
              "        button.append(tooltip_span);\n",
              "\n",
              "        nav_element.append(button);\n",
              "    }\n",
              "\n",
              "    var fmt_picker_span = $('<span/>');\n",
              "\n",
              "    var fmt_picker = $('<select/>');\n",
              "    fmt_picker.addClass('mpl-toolbar-option ui-widget ui-widget-content');\n",
              "    fmt_picker_span.append(fmt_picker);\n",
              "    nav_element.append(fmt_picker_span);\n",
              "    this.format_dropdown = fmt_picker[0];\n",
              "\n",
              "    for (var ind in mpl.extensions) {\n",
              "        var fmt = mpl.extensions[ind];\n",
              "        var option = $(\n",
              "            '<option/>', {selected: fmt === mpl.default_extension}).html(fmt);\n",
              "        fmt_picker.append(option)\n",
              "    }\n",
              "\n",
              "    // Add hover states to the ui-buttons\n",
              "    $( \".ui-button\" ).hover(\n",
              "        function() { $(this).addClass(\"ui-state-hover\");},\n",
              "        function() { $(this).removeClass(\"ui-state-hover\");}\n",
              "    );\n",
              "\n",
              "    var status_bar = $('<span class=\"mpl-message\"/>');\n",
              "    nav_element.append(status_bar);\n",
              "    this.message = status_bar[0];\n",
              "}\n",
              "\n",
              "mpl.figure.prototype.request_resize = function(x_pixels, y_pixels) {\n",
              "    // Request matplotlib to resize the figure. Matplotlib will then trigger a resize in the client,\n",
              "    // which will in turn request a refresh of the image.\n",
              "    this.send_message('resize', {'width': x_pixels, 'height': y_pixels});\n",
              "}\n",
              "\n",
              "mpl.figure.prototype.send_message = function(type, properties) {\n",
              "    properties['type'] = type;\n",
              "    properties['figure_id'] = this.id;\n",
              "    this.ws.send(JSON.stringify(properties));\n",
              "}\n",
              "\n",
              "mpl.figure.prototype.send_draw_message = function() {\n",
              "    if (!this.waiting) {\n",
              "        this.waiting = true;\n",
              "        this.ws.send(JSON.stringify({type: \"draw\", figure_id: this.id}));\n",
              "    }\n",
              "}\n",
              "\n",
              "\n",
              "mpl.figure.prototype.handle_save = function(fig, msg) {\n",
              "    var format_dropdown = fig.format_dropdown;\n",
              "    var format = format_dropdown.options[format_dropdown.selectedIndex].value;\n",
              "    fig.ondownload(fig, format);\n",
              "}\n",
              "\n",
              "\n",
              "mpl.figure.prototype.handle_resize = function(fig, msg) {\n",
              "    var size = msg['size'];\n",
              "    if (size[0] != fig.canvas.width || size[1] != fig.canvas.height) {\n",
              "        fig._resize_canvas(size[0], size[1]);\n",
              "        fig.send_message(\"refresh\", {});\n",
              "    };\n",
              "}\n",
              "\n",
              "mpl.figure.prototype.handle_rubberband = function(fig, msg) {\n",
              "    var x0 = msg['x0'] / mpl.ratio;\n",
              "    var y0 = (fig.canvas.height - msg['y0']) / mpl.ratio;\n",
              "    var x1 = msg['x1'] / mpl.ratio;\n",
              "    var y1 = (fig.canvas.height - msg['y1']) / mpl.ratio;\n",
              "    x0 = Math.floor(x0) + 0.5;\n",
              "    y0 = Math.floor(y0) + 0.5;\n",
              "    x1 = Math.floor(x1) + 0.5;\n",
              "    y1 = Math.floor(y1) + 0.5;\n",
              "    var min_x = Math.min(x0, x1);\n",
              "    var min_y = Math.min(y0, y1);\n",
              "    var width = Math.abs(x1 - x0);\n",
              "    var height = Math.abs(y1 - y0);\n",
              "\n",
              "    fig.rubberband_context.clearRect(\n",
              "        0, 0, fig.canvas.width, fig.canvas.height);\n",
              "\n",
              "    fig.rubberband_context.strokeRect(min_x, min_y, width, height);\n",
              "}\n",
              "\n",
              "mpl.figure.prototype.handle_figure_label = function(fig, msg) {\n",
              "    // Updates the figure title.\n",
              "    fig.header.textContent = msg['label'];\n",
              "}\n",
              "\n",
              "mpl.figure.prototype.handle_cursor = function(fig, msg) {\n",
              "    var cursor = msg['cursor'];\n",
              "    switch(cursor)\n",
              "    {\n",
              "    case 0:\n",
              "        cursor = 'pointer';\n",
              "        break;\n",
              "    case 1:\n",
              "        cursor = 'default';\n",
              "        break;\n",
              "    case 2:\n",
              "        cursor = 'crosshair';\n",
              "        break;\n",
              "    case 3:\n",
              "        cursor = 'move';\n",
              "        break;\n",
              "    }\n",
              "    fig.rubberband_canvas.style.cursor = cursor;\n",
              "}\n",
              "\n",
              "mpl.figure.prototype.handle_message = function(fig, msg) {\n",
              "    fig.message.textContent = msg['message'];\n",
              "}\n",
              "\n",
              "mpl.figure.prototype.handle_draw = function(fig, msg) {\n",
              "    // Request the server to send over a new figure.\n",
              "    fig.send_draw_message();\n",
              "}\n",
              "\n",
              "mpl.figure.prototype.handle_image_mode = function(fig, msg) {\n",
              "    fig.image_mode = msg['mode'];\n",
              "}\n",
              "\n",
              "mpl.figure.prototype.updated_canvas_event = function() {\n",
              "    // Called whenever the canvas gets updated.\n",
              "    this.send_message(\"ack\", {});\n",
              "}\n",
              "\n",
              "// A function to construct a web socket function for onmessage handling.\n",
              "// Called in the figure constructor.\n",
              "mpl.figure.prototype._make_on_message_function = function(fig) {\n",
              "    return function socket_on_message(evt) {\n",
              "        if (evt.data instanceof Blob) {\n",
              "            /* FIXME: We get \"Resource interpreted as Image but\n",
              "             * transferred with MIME type text/plain:\" errors on\n",
              "             * Chrome.  But how to set the MIME type?  It doesn't seem\n",
              "             * to be part of the websocket stream */\n",
              "            evt.data.type = \"image/png\";\n",
              "\n",
              "            /* Free the memory for the previous frames */\n",
              "            if (fig.imageObj.src) {\n",
              "                (window.URL || window.webkitURL).revokeObjectURL(\n",
              "                    fig.imageObj.src);\n",
              "            }\n",
              "\n",
              "            fig.imageObj.src = (window.URL || window.webkitURL).createObjectURL(\n",
              "                evt.data);\n",
              "            fig.updated_canvas_event();\n",
              "            fig.waiting = false;\n",
              "            return;\n",
              "        }\n",
              "        else if (typeof evt.data === 'string' && evt.data.slice(0, 21) == \"data:image/png;base64\") {\n",
              "            fig.imageObj.src = evt.data;\n",
              "            fig.updated_canvas_event();\n",
              "            fig.waiting = false;\n",
              "            return;\n",
              "        }\n",
              "\n",
              "        var msg = JSON.parse(evt.data);\n",
              "        var msg_type = msg['type'];\n",
              "\n",
              "        // Call the  \"handle_{type}\" callback, which takes\n",
              "        // the figure and JSON message as its only arguments.\n",
              "        try {\n",
              "            var callback = fig[\"handle_\" + msg_type];\n",
              "        } catch (e) {\n",
              "            console.log(\"No handler for the '\" + msg_type + \"' message type: \", msg);\n",
              "            return;\n",
              "        }\n",
              "\n",
              "        if (callback) {\n",
              "            try {\n",
              "                // console.log(\"Handling '\" + msg_type + \"' message: \", msg);\n",
              "                callback(fig, msg);\n",
              "            } catch (e) {\n",
              "                console.log(\"Exception inside the 'handler_\" + msg_type + \"' callback:\", e, e.stack, msg);\n",
              "            }\n",
              "        }\n",
              "    };\n",
              "}\n",
              "\n",
              "// from http://stackoverflow.com/questions/1114465/getting-mouse-location-in-canvas\n",
              "mpl.findpos = function(e) {\n",
              "    //this section is from http://www.quirksmode.org/js/events_properties.html\n",
              "    var targ;\n",
              "    if (!e)\n",
              "        e = window.event;\n",
              "    if (e.target)\n",
              "        targ = e.target;\n",
              "    else if (e.srcElement)\n",
              "        targ = e.srcElement;\n",
              "    if (targ.nodeType == 3) // defeat Safari bug\n",
              "        targ = targ.parentNode;\n",
              "\n",
              "    // jQuery normalizes the pageX and pageY\n",
              "    // pageX,Y are the mouse positions relative to the document\n",
              "    // offset() returns the position of the element relative to the document\n",
              "    var x = e.pageX - $(targ).offset().left;\n",
              "    var y = e.pageY - $(targ).offset().top;\n",
              "\n",
              "    return {\"x\": x, \"y\": y};\n",
              "};\n",
              "\n",
              "/*\n",
              " * return a copy of an object with only non-object keys\n",
              " * we need this to avoid circular references\n",
              " * http://stackoverflow.com/a/24161582/3208463\n",
              " */\n",
              "function simpleKeys (original) {\n",
              "  return Object.keys(original).reduce(function (obj, key) {\n",
              "    if (typeof original[key] !== 'object')\n",
              "        obj[key] = original[key]\n",
              "    return obj;\n",
              "  }, {});\n",
              "}\n",
              "\n",
              "mpl.figure.prototype.mouse_event = function(event, name) {\n",
              "    var canvas_pos = mpl.findpos(event)\n",
              "\n",
              "    if (name === 'button_press')\n",
              "    {\n",
              "        this.canvas.focus();\n",
              "        this.canvas_div.focus();\n",
              "    }\n",
              "\n",
              "    var x = canvas_pos.x * mpl.ratio;\n",
              "    var y = canvas_pos.y * mpl.ratio;\n",
              "\n",
              "    this.send_message(name, {x: x, y: y, button: event.button,\n",
              "                             step: event.step,\n",
              "                             guiEvent: simpleKeys(event)});\n",
              "\n",
              "    /* This prevents the web browser from automatically changing to\n",
              "     * the text insertion cursor when the button is pressed.  We want\n",
              "     * to control all of the cursor setting manually through the\n",
              "     * 'cursor' event from matplotlib */\n",
              "    event.preventDefault();\n",
              "    return false;\n",
              "}\n",
              "\n",
              "mpl.figure.prototype._key_event_extra = function(event, name) {\n",
              "    // Handle any extra behaviour associated with a key event\n",
              "}\n",
              "\n",
              "mpl.figure.prototype.key_event = function(event, name) {\n",
              "\n",
              "    // Prevent repeat events\n",
              "    if (name == 'key_press')\n",
              "    {\n",
              "        if (event.which === this._key)\n",
              "            return;\n",
              "        else\n",
              "            this._key = event.which;\n",
              "    }\n",
              "    if (name == 'key_release')\n",
              "        this._key = null;\n",
              "\n",
              "    var value = '';\n",
              "    if (event.ctrlKey && event.which != 17)\n",
              "        value += \"ctrl+\";\n",
              "    if (event.altKey && event.which != 18)\n",
              "        value += \"alt+\";\n",
              "    if (event.shiftKey && event.which != 16)\n",
              "        value += \"shift+\";\n",
              "\n",
              "    value += 'k';\n",
              "    value += event.which.toString();\n",
              "\n",
              "    this._key_event_extra(event, name);\n",
              "\n",
              "    this.send_message(name, {key: value,\n",
              "                             guiEvent: simpleKeys(event)});\n",
              "    return false;\n",
              "}\n",
              "\n",
              "mpl.figure.prototype.toolbar_button_onclick = function(name) {\n",
              "    if (name == 'download') {\n",
              "        this.handle_save(this, null);\n",
              "    } else {\n",
              "        this.send_message(\"toolbar_button\", {name: name});\n",
              "    }\n",
              "};\n",
              "\n",
              "mpl.figure.prototype.toolbar_button_onmouseover = function(tooltip) {\n",
              "    this.message.textContent = tooltip;\n",
              "};\n",
              "mpl.toolbar_items = [[\"Home\", \"Reset original view\", \"fa fa-home icon-home\", \"home\"], [\"Back\", \"Back to  previous view\", \"fa fa-arrow-left icon-arrow-left\", \"back\"], [\"Forward\", \"Forward to next view\", \"fa fa-arrow-right icon-arrow-right\", \"forward\"], [\"\", \"\", \"\", \"\"], [\"Pan\", \"Pan axes with left mouse, zoom with right\", \"fa fa-arrows icon-move\", \"pan\"], [\"Zoom\", \"Zoom to rectangle\", \"fa fa-square-o icon-check-empty\", \"zoom\"], [\"\", \"\", \"\", \"\"], [\"Download\", \"Download plot\", \"fa fa-floppy-o icon-save\", \"download\"]];\n",
              "\n",
              "mpl.extensions = [\"eps\", \"jpeg\", \"pdf\", \"png\", \"ps\", \"raw\", \"svg\", \"tif\"];\n",
              "\n",
              "mpl.default_extension = \"png\";var comm_websocket_adapter = function(comm) {\n",
              "    // Create a \"websocket\"-like object which calls the given IPython comm\n",
              "    // object with the appropriate methods. Currently this is a non binary\n",
              "    // socket, so there is still some room for performance tuning.\n",
              "    var ws = {};\n",
              "\n",
              "    ws.close = function() {\n",
              "        comm.close()\n",
              "    };\n",
              "    ws.send = function(m) {\n",
              "        //console.log('sending', m);\n",
              "        comm.send(m);\n",
              "    };\n",
              "    // Register the callback with on_msg.\n",
              "    comm.on_msg(function(msg) {\n",
              "        //console.log('receiving', msg['content']['data'], msg);\n",
              "        // Pass the mpl event to the overriden (by mpl) onmessage function.\n",
              "        ws.onmessage(msg['content']['data'])\n",
              "    });\n",
              "    return ws;\n",
              "}\n",
              "\n",
              "mpl.mpl_figure_comm = function(comm, msg) {\n",
              "    // This is the function which gets called when the mpl process\n",
              "    // starts-up an IPython Comm through the \"matplotlib\" channel.\n",
              "\n",
              "    var id = msg.content.data.id;\n",
              "    // Get hold of the div created by the display call when the Comm\n",
              "    // socket was opened in Python.\n",
              "    var element = $(\"#\" + id);\n",
              "    var ws_proxy = comm_websocket_adapter(comm)\n",
              "\n",
              "    function ondownload(figure, format) {\n",
              "        window.open(figure.imageObj.src);\n",
              "    }\n",
              "\n",
              "    var fig = new mpl.figure(id, ws_proxy,\n",
              "                           ondownload,\n",
              "                           element.get(0));\n",
              "\n",
              "    // Call onopen now - mpl needs it, as it is assuming we've passed it a real\n",
              "    // web socket which is closed, not our websocket->open comm proxy.\n",
              "    ws_proxy.onopen();\n",
              "\n",
              "    fig.parent_element = element.get(0);\n",
              "    fig.cell_info = mpl.find_output_cell(\"<div id='\" + id + \"'></div>\");\n",
              "    if (!fig.cell_info) {\n",
              "        console.error(\"Failed to find cell for figure\", id, fig);\n",
              "        return;\n",
              "    }\n",
              "\n",
              "    var output_index = fig.cell_info[2]\n",
              "    var cell = fig.cell_info[0];\n",
              "\n",
              "};\n",
              "\n",
              "mpl.figure.prototype.handle_close = function(fig, msg) {\n",
              "    var width = fig.canvas.width/mpl.ratio\n",
              "    fig.root.unbind('remove')\n",
              "\n",
              "    // Update the output cell to use the data from the current canvas.\n",
              "    fig.push_to_output();\n",
              "    var dataURL = fig.canvas.toDataURL();\n",
              "    // Re-enable the keyboard manager in IPython - without this line, in FF,\n",
              "    // the notebook keyboard shortcuts fail.\n",
              "    IPython.keyboard_manager.enable()\n",
              "    $(fig.parent_element).html('<img src=\"' + dataURL + '\" width=\"' + width + '\">');\n",
              "    fig.close_ws(fig, msg);\n",
              "}\n",
              "\n",
              "mpl.figure.prototype.close_ws = function(fig, msg){\n",
              "    fig.send_message('closing', msg);\n",
              "    // fig.ws.close()\n",
              "}\n",
              "\n",
              "mpl.figure.prototype.push_to_output = function(remove_interactive) {\n",
              "    // Turn the data on the canvas into data in the output cell.\n",
              "    var width = this.canvas.width/mpl.ratio\n",
              "    var dataURL = this.canvas.toDataURL();\n",
              "    this.cell_info[1]['text/html'] = '<img src=\"' + dataURL + '\" width=\"' + width + '\">';\n",
              "}\n",
              "\n",
              "mpl.figure.prototype.updated_canvas_event = function() {\n",
              "    // Tell IPython that the notebook contents must change.\n",
              "    IPython.notebook.set_dirty(true);\n",
              "    this.send_message(\"ack\", {});\n",
              "    var fig = this;\n",
              "    // Wait a second, then push the new image to the DOM so\n",
              "    // that it is saved nicely (might be nice to debounce this).\n",
              "    setTimeout(function () { fig.push_to_output() }, 1000);\n",
              "}\n",
              "\n",
              "mpl.figure.prototype._init_toolbar = function() {\n",
              "    var fig = this;\n",
              "\n",
              "    var nav_element = $('<div/>')\n",
              "    nav_element.attr('style', 'width: 100%');\n",
              "    this.root.append(nav_element);\n",
              "\n",
              "    // Define a callback function for later on.\n",
              "    function toolbar_event(event) {\n",
              "        return fig.toolbar_button_onclick(event['data']);\n",
              "    }\n",
              "    function toolbar_mouse_event(event) {\n",
              "        return fig.toolbar_button_onmouseover(event['data']);\n",
              "    }\n",
              "\n",
              "    for(var toolbar_ind in mpl.toolbar_items){\n",
              "        var name = mpl.toolbar_items[toolbar_ind][0];\n",
              "        var tooltip = mpl.toolbar_items[toolbar_ind][1];\n",
              "        var image = mpl.toolbar_items[toolbar_ind][2];\n",
              "        var method_name = mpl.toolbar_items[toolbar_ind][3];\n",
              "\n",
              "        if (!name) { continue; };\n",
              "\n",
              "        var button = $('<button class=\"btn btn-default\" href=\"#\" title=\"' + name + '\"><i class=\"fa ' + image + ' fa-lg\"></i></button>');\n",
              "        button.click(method_name, toolbar_event);\n",
              "        button.mouseover(tooltip, toolbar_mouse_event);\n",
              "        nav_element.append(button);\n",
              "    }\n",
              "\n",
              "    // Add the status bar.\n",
              "    var status_bar = $('<span class=\"mpl-message\" style=\"text-align:right; float: right;\"/>');\n",
              "    nav_element.append(status_bar);\n",
              "    this.message = status_bar[0];\n",
              "\n",
              "    // Add the close button to the window.\n",
              "    var buttongrp = $('<div class=\"btn-group inline pull-right\"></div>');\n",
              "    var button = $('<button class=\"btn btn-mini btn-primary\" href=\"#\" title=\"Stop Interaction\"><i class=\"fa fa-power-off icon-remove icon-large\"></i></button>');\n",
              "    button.click(function (evt) { fig.handle_close(fig, {}); } );\n",
              "    button.mouseover('Stop Interaction', toolbar_mouse_event);\n",
              "    buttongrp.append(button);\n",
              "    var titlebar = this.root.find($('.ui-dialog-titlebar'));\n",
              "    titlebar.prepend(buttongrp);\n",
              "}\n",
              "\n",
              "mpl.figure.prototype._root_extra_style = function(el){\n",
              "    var fig = this\n",
              "    el.on(\"remove\", function(){\n",
              "\tfig.close_ws(fig, {});\n",
              "    });\n",
              "}\n",
              "\n",
              "mpl.figure.prototype._canvas_extra_style = function(el){\n",
              "    // this is important to make the div 'focusable\n",
              "    el.attr('tabindex', 0)\n",
              "    // reach out to IPython and tell the keyboard manager to turn it's self\n",
              "    // off when our div gets focus\n",
              "\n",
              "    // location in version 3\n",
              "    if (IPython.notebook.keyboard_manager) {\n",
              "        IPython.notebook.keyboard_manager.register_events(el);\n",
              "    }\n",
              "    else {\n",
              "        // location in version 2\n",
              "        IPython.keyboard_manager.register_events(el);\n",
              "    }\n",
              "\n",
              "}\n",
              "\n",
              "mpl.figure.prototype._key_event_extra = function(event, name) {\n",
              "    var manager = IPython.notebook.keyboard_manager;\n",
              "    if (!manager)\n",
              "        manager = IPython.keyboard_manager;\n",
              "\n",
              "    // Check for shift+enter\n",
              "    if (event.shiftKey && event.which == 13) {\n",
              "        this.canvas_div.blur();\n",
              "        // select the cell after this one\n",
              "        var index = IPython.notebook.find_cell_index(this.cell_info[0]);\n",
              "        IPython.notebook.select(index + 1);\n",
              "    }\n",
              "}\n",
              "\n",
              "mpl.figure.prototype.handle_save = function(fig, msg) {\n",
              "    fig.ondownload(fig, null);\n",
              "}\n",
              "\n",
              "\n",
              "mpl.find_output_cell = function(html_output) {\n",
              "    // Return the cell and output element which can be found *uniquely* in the notebook.\n",
              "    // Note - this is a bit hacky, but it is done because the \"notebook_saving.Notebook\"\n",
              "    // IPython event is triggered only after the cells have been serialised, which for\n",
              "    // our purposes (turning an active figure into a static one), is too late.\n",
              "    var cells = IPython.notebook.get_cells();\n",
              "    var ncells = cells.length;\n",
              "    for (var i=0; i<ncells; i++) {\n",
              "        var cell = cells[i];\n",
              "        if (cell.cell_type === 'code'){\n",
              "            for (var j=0; j<cell.output_area.outputs.length; j++) {\n",
              "                var data = cell.output_area.outputs[j];\n",
              "                if (data.data) {\n",
              "                    // IPython >= 3 moved mimebundle to data attribute of output\n",
              "                    data = data.data;\n",
              "                }\n",
              "                if (data['text/html'] == html_output) {\n",
              "                    return [cell, data, j];\n",
              "                }\n",
              "            }\n",
              "        }\n",
              "    }\n",
              "}\n",
              "\n",
              "// Register the function which deals with the matplotlib target/channel.\n",
              "// The kernel may be null if the page has been refreshed.\n",
              "if (IPython.notebook.kernel != null) {\n",
              "    IPython.notebook.kernel.comm_manager.register_target('matplotlib', mpl.mpl_figure_comm);\n",
              "}\n"
            ],
            "text/plain": [
              "<IPython.core.display.Javascript object>"
            ]
          },
          "metadata": {},
          "output_type": "display_data"
        },
        {
          "data": {
            "text/html": [
              "<img src=\"data:image/png;base64,iVBORw0KGgoAAAANSUhEUgAAAoAAAAHgCAYAAAA10dzkAAAAAXNSR0IArs4c6QAAIABJREFUeF7t3Q2wfXtd1/EPmOIY939vOcZzNoZBDD5iKZJAxVQEDuAgijUD9mAoYkYhoNKFdIwEFYXs0QRmElIZyIfMB4IMBSVBHHxARK7cCwYo9ocyZDCa320dOP/DOWevvb/7t/f67f3aM2fm3v9e3/Vd6/37rLXeZz2d28QHAQQQQAABBBBA4KgI3Oao1tbKIoAAAggggAACCIQACgECCCCAAAIIIHBkBAjgkQ241UUAAQQQQAABBAigDCCAAAIIIIAAAkdGgAAe2YBbXQQQQAABBBBAgADKAAIIIIAAAgggcGQECOCRDbjVRQABBBBAAAEECKAMIIAAAggggAACR0aAAB7ZgFtdBBBAAAEEEECAAMoAAggggAACCCBwZAQI4JENuNVFAAEEEEAAAQQIoAwggAACCCCAAAJHRoAAHtmAW10EEEAAAQQQQIAAygACCCCAAAIIIHBkBAjgkQ241UUAAQQQQAABBAigDCCAAAIIIIAAAkdGgAAe2YBbXQQQQAABBBBAgADKAAIIIIAAAgggcGQECOCRDbjVRQABBBBAAAEECKAMIIAAAggggAACR0aAAB7ZgFtdBBBAAAEEEECAAMoAAggggAACCCBwZAQI4JENuNVFAAEEEEAAAQQIoAwggAACCCCAAAJHRoAAHtmAW10EEEAAAQQQQIAAygACCCCAAAIIIHBkBAjgkQ241UUAAQQQQAABBAigDCCAAAIIIIAAAkdGgAAe2YBbXQQQQAABBBBAgADKAAIIIIAAAgggcGQECOCRDbjVRQABBBBAAAEECKAMIIAAAggggAACR0aAAB7ZgFtdBBBAAAEEEECAAMoAAggggAACCCBwZAQI4JENuNVFAAEEEEAAAQQIoAwggAACCCCAAAJHRoAAHtmAW10EEEAAAQQQQIAAygACCCCAAAIIIHBkBAjgkQ241UUAAQQQQAABBAigDCCAAAIIIIAAAkdGgAAe2YBbXQQQQAABBBBAgADKAAIIIIAAAgggcGQECOCRDbjVRQABBBBAAAEECKAMIIAAAggggAACR0aAAB7ZgFtdBBBAAAEEEECAAMoAAggggAACCCBwZAQI4JENuNVFAAEEEEAAAQQIoAwggAACCCCAAAJHRoAAHtmAW10EEEAAAQQQQIAAygACCCCAAAIIIHBkBAjgkQ241UUAAQQQQAABBAigDCCAAAIIIIAAAkdGgAAe2YBbXQQQQAABBBBAgADKAAIIIIAAAgggcGQECOCRDbjVRQABBBBAAAEECKAMIIAAAggggAACR0aAANYGvPG7c5L31WajGgEEEEAAAQR2TOC6JO9I8qEd911EOwJYG4a7JLmlNgvVCCCAAAIIILAnAndN8vY99d5rWwJYw38lydWbb745V660//RBAAEEEEAAgaUTeO9735u73e1ubTGvT/LepS9vj+UjgDWqtwrg1atXCWCNo2oEEEAAAQR2RqAJ4PXXN/cjgDuDfmCNCOCBDajVQQABBBA4fAIEMHEGsJZzAljjpxoBBBBAAIGdEyCABLAaOgJYJageAQQQQACBHRMggASwGjkCWCWoHgEEEEAAgR0TIIAEsBo5AlglqB4BBBBAAIEdEyCABLAaOQJYJageAQQQQACBHRMggASwGjkCWCWoHgEEEEAAgR0TIIAEsBo5AlglqB4BBBBAAIEdEyCABLAaOQJYJageAQQQQACBHRMggASwGjkCWCWoHgEEEEAAgR0TIIAEsBo5AlglqB4BBBBAAIEdEyCABLAaOQJYJageAQQQQACBHRMggASwGjkCWCWoHgEEEEAAgR0TIIAEsBo5AlglqB4BBBBAAIEdEyCABLAaOQJYJageAQS6E/hTT/nRa3rc9MyHdO+pAQJLJkAACWA1nwSwSlA9Agh0J0AAuyPWYDACBJAAViNLAKsE1SOAQHcCBLA7Yg0GI0AACWA1sgSwSlA9Agh0J0AAuyPWYDACBJAAViNLAKsE1SOAQHcCBLA7Yg0GI0AACWA1sgSwSlA9Agh0J0AAuyPWYDACBJAAViNLAKsE1SOAQHcCBLA7Yg0GI0AACWA1sgSwSlA9Agh0J0AAuyPWYDACBHAcAbx/kicluU+SOyV5RJKXncrbhy7I3tcledYF3z09yY1nvntTknuukWMCuAYskyKAwH4IEMD9cNd1uQQI4DgC+OAk90vyuiQvOUcA73gmZm3670ly9yS/eYkAPjLJg059/8Ekv7NGZAngGrBMigAC+yFAAPfDXdflEiCA4wjg6RS1s31nzwCeTVk7O3hdkr98SfzaGcCHJ/nMQkQJYAGeUgQQ2A0BArgbzrqMQ4AAHqYA3iHJLUkek+T7Vghgu6x8Ncn7k7w6yVOTvO2SmtslaT8nnyaZt1y9ejVXrjQX9EEAAQSWR4AALm9MLNF+CRDAwxTAdt/fU5LceRK7i1LWLhPfPkm776/dV9juB7xLknsned8FRefdNxgCuN8NWXcEELicAAGUEASuJUAAD1MAfy3JTyZ5wpqBvyHJbyV54nT/4HnlzgCuCdXkCCCwfwIEcP9jYAmWRYAAHp4AfkGSn57u63vDBnF7bZKfmi4Fzyl3D+AcSqZBAIG9EiCAe8Wv+QIJEMDDE8DnT5dwP2eDvLXLwe3+v3aZ97tm1hPAmaBMhgAC+yNAAPfHXudlEiCA4whgk7P2Spf2ef10mfYVSd5z6qGNJmO/neQfJvmX50Tu5UlemuR503fPTvLD02Xfdr/gM6Yzh/dK8u6ZkSWAM0GZDAEE9keAAO6Pvc7LJEAAxxHAByZpwnf284Ikj53+8SuSPGd6oKM92Xv2c1OSdoawneFrnxcnaS+Y/sRJ+F6V5BuSvGWNuBLANWCZFAEE9kOAAO6Hu67LJUAAxxHApaaIAC51ZCwXAgh8mAABFAYEriVAAAlgdZsggFWC6hFAoDsBAtgdsQaDESCABLAaWQJYJageAQS6EyCA3RFrMBgBAkgAq5ElgFWC6hFAoDsBAtgdsQaDESCABLAaWQJYJageAQS6EyCA3RFrMBgBAkgAq5ElgFWC6hFAoDsBAtgdsQaDESCABLAaWQJYJageAQS6EyCA3RFrMBgBAkgAq5ElgFWC6hFAoDsBAtgdsQaDESCABLAaWQJYJageAQS6EyCA3RFrMBgBAkgAq5ElgFWC6hFAoDsBAtgdsQaDESCABLAaWQJYJageAQS6EyCA3RFrMBgBAkgAq5ElgFWC6hFAoDsBAtgdsQaDESCABLAaWQJYJageAQS6EyCA3RFrMBgBAkgAq5ElgFWC6hFAoDsBAtgdsQaDESCABLAaWQJYJageAQS6EyCA3RFrMBgBAkgAq5ElgFWC6hFAoDsBAtgdsQaDESCABLAaWQJYJageAQS6EyCA3RFrMBgBAkgAq5ElgFWC6hFAoDsBAtgdsQaDESCABLAaWQJYJageAQS6EyCA3RFrMBgBAkgAq5ElgFWC6hFAoDsBAtgdsQaDESCABLAaWQJYJageAQS6EyCA3RFrMBgBAkgAq5ElgFWC6hFAoDsBAtgdsQaDESCABLAaWQJYJageAQS6EyCA3RFrMBgBAkgAq5ElgFWC6hFAoDsBAtgdsQaDESCABLAaWQJYJageAQS6EyCA3RFrMBgBAkgAq5ElgFWC6hFAoDsBAtgdsQaDESCABLAaWQJYJageAQS6EyCA3RFrMBgBAkgAq5ElgFWC6hFAoDsBAtgdsQaDESCABLAaWQJYJageAQS6EyCA3RFrMBgBAkgAq5ElgFWC6hFAoDsBAtgdsQaDESCABLAaWQJYJageAQS6EyCA3RFrMBgBAkgAq5ElgFWC6hFAoDsBAtgdsQaDESCABLAaWQJYJageAQS6EyCA3RFrMBgBAkgAq5ElgFWC6hFAoDsBAtgdsQaDESCABLAaWQJYJageAQS6EyCA3RFrMBgBAkgAq5ElgFWC6hFAoDsBAtgdsQaDESCABLAaWQJYJageAQS6EyCA3RFrMBgBAkgAq5ElgFWC6hFAoDsBAtgdsQaDESCA4wjg/ZM8Kcl9ktwpySOSvOxU3p6f5DFn8vfjSf7aikw+fprvHZO8IckTkvz8GjkmgGvAMikCCOyHAAHcD3ddl0uAAI4jgA9Ocr8kr0vykgsE8A5JvvxU3P4gye9dEr8vSfLCJI9L8nNJvjbJFye5R5J3zYwtAZwJymQIILA/AgRwf+x1XiYBAjiOAJ5O0IcuEMAbkjx8jag16Xttkq+eam6b5OYkz03yzJnzIYAzQZkMAQT2R4AA7o+9zsskQAAPSwCb/H1gOuv3X5J8Y5LfvSB6H5fk95M88syl5BckaSL5sJmRJYAzQZkMAQT2R4AA7o+9zsskQAAPRwC/dBK6tyb500m+Jcn/SnLfJH94TvzunOTtST4/yatPff+tSR6Q5HMviOztkrSfk891SW65evVqrlxpLuiDAAIILI8AAVzemFii/RIggIcjgGeT9ClJ3pLkQUlevoYAPivJFyT5vAui+fQkN579jgDud0PWHQEELidAACUEgWsJEMDDFcA20u+eLgP/q3OCv+klYGcA7UUQQGA4AgRwuCGzwJ0JEMDDFcC7Jnnb9FDID12Qo/YQSHvlS3v1S/u0h0BazfM8BNJ5yzN7BBDYKQECuFPcmg1AgACOI4C3T3L3KVOvT/LEJK9I8p7pp12Wba+H+R/TPYDtXr52f96nJWmvg2mfdin4pZPgtf8/eQ3MV0wi2F4D86gk90zyzpn59RDITFAmQwCB/REggPtjr/MyCRDAcQTwgZPwnU1Se2r3K6cneT9reoL3HUl+IsnTzojcTUnaC6PbfXwnn/YKmPaC6fYi6F9M8jXTOwHnJpYAziVlOgQQ2BsBArg39BovlAABHEcAFxqhEMCljozlQgCBDxMggMKAwLUECCABrG4TBLBKUD0CCHQnQAC7I9ZgMAIEkABWI0sAqwTVI4BAdwIEsDtiDQYjQAAJYDWyBLBKUD0CCHQnQAC7I9ZgMAIEkABWI0sAqwTVI4BAdwIEsDtiDQYjQAAJYDWyBLBKUD0CCHQnQAC7I9ZgMAIEkABWI0sAqwTVI4BAdwIEsDtiDQYjQAAJYDWyBLBKUD0CCHQnQAC7I9ZgMAIEkABWI0sAqwTVI4BAdwIEsDtiDQYjQAAJYDWyBLBKUD0CCHQnQAC7I9ZgMAIEkABWI0sAqwTVI4BAdwIEsDtiDQYjQAAJYDWyBLBKUD0CCHQnQAC7I9ZgMAIEkABWI0sAqwTVI4BAdwIEsDtiDQYjQAAJYDWyBLBKUD0CCHQnQAC7I9ZgMAIEkABWI0sAqwTVI4BAdwIEsDtiDQYjQAAJYDWyBLBKUD0CCHQnQAC7I9ZgMAIEkABWI0sAqwTVI4BAdwIEsDtiDQYjQAAJYDWyBLBKUD0CCHQnQAC7I9ZgMAIEkABWI0sAqwTVI4BAdwIEsDtiDQYjQAAJYDWyBLBKUD0CCHQnQAC7I9ZgMAIEkABWI0sAqwTVI4BAdwIEsDtiDQYjQAAJYDWyBLBKUD0CCHQnQAC7I9ZgMAIEkABWI0sAqwTVI4BAdwIEsDtiDQYjQAAJYDWyBLBKUD0CCHQnQAC7I9ZgMAIEkABWI0sAqwTVI4BAdwIEsDtiDQYjQAAJYDWyBLBKUD0CCHQnQAC7I9ZgMAIEkABWI0sAqwTVI4BAdwIEsDtiDQYjQAAJYDWyBLBKUD0CCHQnQAC7I9ZgMAIEkABWI0sAqwTVI4BAdwIEsDtiDQYjQAAJYDWyBLBKUD0CCHQnQAC7I9ZgMAIEkABWI0sAqwTVI4BAdwIEsDtiDQYjQAAJYDWyBLBKUD0CCHQnQAC7I9ZgMAIEkABWI0sAqwTVI4BAdwIEsDtiDQYjQAAJYDWyBLBKUD0CCHQnQAC7I9ZgMAIEkABWI0sAqwTVI4BAdwIEsDtiDQYjQAAJYDWyBLBKUD0CCHQnQAC7I9ZgMAIEkABWI0sAqwTVI4BAdwIEsDtiDQYjQAAJYDWyBLBKUD0CCHQnQAC7I9ZgMAIEkABWI0sAqwTVI4BAdwIEsDtiDQYjQADHEcD7J3lSkvskuVOSRyR52ZS3j03yzUn+epJPSXI1yU8leUqSd1ySyacnufHM929Kcs81ckwA14BlUgQQ2A8BArgf7roulwABHEcAH5zkfklel+QlZwTw+iQ/mOTfJHlDkj+W5DuTfEySz1khgI9M8qBT03wwye+sEVkCuAYskyKAwH4IEMD9cNd1uQQI4DgCeDpFHzojgOcl7M8l+fkkn5zkbRdEsJ0BfHiSzyxElAAW4ClFAIHdECCAu+GsyzgECODhCmA7q/cTSW5I8t5LBLBdVm6XjN+f5NVJnnqJMLbZ3G76OZnldUluuXr1aq5caS7ogwACCCyPAAFc3phYov0SIICHKYAfn+Rnkvxakr9xScTaZeXbJ2n3/bX7Ctv9gHdJcu8k77tEGs/eNxgCuN8NWXcEELicAAGUEASuJUAAD08A2wMh7R7BuyZ54CVn/87bFtrZwt9K8sQk33PBxuIMoL0IAggMR4AADjdkFrgzAQJ4WALY5O/7pyeB/1KS390gP6+dniBul4LnfNwDOIeSaRBAYK8ECOBe8Wu+QAIE8HAE8ET+PjXJX0zy7g3y1i4HtwdG2sMh3zWzngDOBGUyBBDYHwECuD/2Oi+TAAEcRwCbnN19itHrp8u0r0jynuldf+2y72cneWiSd56KW/v+A9P/vzzJS5M8b/r/Zyf54emy752TPGN6IvheawgkAVzmtm2pEEDgFAECKA4IXEuAAI4jgO1+viZ8Zz8vmM7YvfWCcLezga+cvrspyfOn6ds/vThJe8H0J07C96ok35DkLWtsKARwDVgmRQCB/RAggPvhrutyCRDAcQRwqSkigEsdGcuFAAIfJkAAhQEBZwDPZuA2QlEiQABL+BQjgMAuCBDAXVDWYyQCzgA6A1jNKwGsElSPAALdCRDA7og1GIwAASSA1cgSwCpB9Qgg0J0AAeyOWIPBCBBAAliNLAGsElSPAALdCRDA7og1GIwAASSA1cgSwCpB9Qgg0J0AAeyOWIPBCBBAAliNLAGsElSPAALdCRDA7og1GIwAASSA1cgSwCpB9Qgg0J0AAeyOWIPBCBBAAliNLAGsElSPAALdCRDA7og1GIwAASSA1cgSwCpB9Qgg0J0AAeyOWIPBCBBAAliNLAGsElSPAALdCRDA7og1GIwAASSA1cgSwCpB9Qgg0J0AAeyOWIPBCBBAAliNLAGsElSPAALdCRDA7og1GIwAASSA1cgSwCpB9Qgg0J0AAeyOWIPBCBBAAliNLAGsElSPAALdCRDA7og1GIwAASSA1cgSwCpB9Qgg0J0AAeyOWIPBCBBAAliNLAGsElSPAALdCRDA7og1GIwAASSA1cgSwCpB9Qgg0J0AAeyOWIPBCBBAAliNLAGsElSPAALdCRDA7og1GIwAASSA1cgSwCpB9Qgg0J0AAeyOWIPBCBBAAliNLAGsElSPAALdCRDA7og1GIwAASSA1cgSwCpB9Qgg0J0AAeyOWIPBCBBAAliNLAGsElSPAALdCRDA7og1GIwAASSA1cgSwCpB9Qgg0J0AAeyOWIPBCBBAAliNLAGsElSPAALdCRDA7og1GIwAASSA1cgSwCpB9Qgg0J0AAeyOWIPBCBBAAliNLAGsElSPAALdCRDA7og1GIwAASSA1cgSwCpB9Qgg0J0AAeyOWIPBCBBAAliNLAGsElSPAALdCRDA7og1GIwAASSA1cgSwCpB9Qgg0J0AAeyOWIPBCBBAAliNLAGsElSPAALdCRDA7og1GIwAASSA1cgSwCpB9Qgg0J0AAeyOWIPBCBBAAliNLAGsElSPAALdCRDA7og1GIwAASSA1cgSwCpB9Qgg0J0AAeyOWIPBCBBAAliNLAGsElSPAALdCRDA7og1GIwAASSA1cgSwCpB9Qgg0J0AAeyOWIPBCBBAAliNLAGsElSPAALdCRDA7og1GIwAASSA1cgSwCpB9Qgg0J0AAeyOWIPBCBDAcQTw/kmelOQ+Se6U5BFJXnYqb7dJ8owkfzfJDUl+JslXJnnzikw+fprvHZO8IckTkvz8GjkmgGvAMikCCOyHAAHcD3ddl0uAAI4jgA9Ocr8kr0vyknME8MlJnprksUl+M8k3Jfm0JPdK8v4LIvglSV6Y5HFJfi7J1yb54iT3SPKumbElgDNBmQwBBPZHgADuj73OyyRAAMcRwNMJ+tAZAWxn/96R5NuSPHua8Pok75yE8MUXxK9J32uTfPX0/W2T3JzkuUmeOTOyBHAmKJMhgMD+CBDA/bHXeZkECOBhCOCnJHlLks9K8ounovZfp///++fE7+OS/H6SR565lPyC6RLyw2ZGlgDOBGUyBBDYHwECuD/2Oi+TAAE8DAH8/Omevzsn+e1TUfv+JO1sYbvUe/bTpn17klb76lNffmuSByT53Asie7sk7efkc12SW65evZorV5oL+iCAAALLI0AAlzcmlmi/BAjgYQvgDyT5wyRfuoYAPivJFyT5vAui+fQkN579jgDud0PWHQEELidAACUEgWsJEMDDEMBdXgJ2BtBeBAEEhiNAAIcbMgvcmQABPAwBPHkIpD0A0h4EaZ92PbY9ydueCr7sIZD2ypf26pf2aQ+BvC3J8zwE0nnLM3sEENgpAQK4U9yaDUCAAI4jgLdPcvcpU69P8sQkr0jynkna2mtgnpLkMUneOr0G5tPPvAbm5UleOglem9XJa2C+Ynr3X3sNzKOS3HN6gnhOhD0EMoeSaRBAYK8ECOBe8Wu+QAIEcBwBfOAkfGdj1J7abWf5Tl4E3WSuvQj6VUm+Ksmvnyq4Kcnzk7T7+E4+7RUw7QXT7UXQ7Qnir5neCTg3rgRwLinTIYDA3ggQwL2h13ihBAjgOAK40Ajdeqn5qodAljo8lgsBBBoBAigHCFxLgAASwOo2QQCrBNUjgEB3AgSwO2INBiNAAAlgNbIEsEpQPQIIdCdAALsj1mAwAgSQAFYjSwCrBNUjgEB3AgSwO2INBiNAAAlgNbIEsEpQPQIIdCdAALsj1mAwAgSQAFYjSwCrBNUjgEB3AgSwO2INBiNAAAlgNbIEsEpQPQIIdCdAALsj1mAwAgSQAFYjSwCrBNUjgEB3AgSwO2INBiNAAAlgNbIEsEpQPQIIdCdAALsj1mAwAgSQAFYjSwCrBNUjgEB3AgSwO2INBiNAAAlgNbIEsEpQPQIIdCdAALsj1mAwAgSQAFYjSwCrBNUjgEB3AgSwO2INBiNAAAlgNbIEsEpQPQIIdCdAALsj1mAwAgSQAFYjSwCrBNUjgEB3AgSwO2INBiNAAAlgNbIEsEpQPQIIdCdAALsj1mAwAgSQAFYjSwCrBNUjgEB3AgSwO2INBiNAAAlgNbIEsEpQPQIIdCdAALsj1mAwAgSQAFYjSwCrBNUjgEB3AgSwO2INBiNAAAlgNbIEsEpQPQIIdCdAALsj1mAwAgSQAFYjSwCrBNUjgEB3AgSwO2INBiNAAAlgNbIEsEpQPQIIdCdAALsj1mAwAgSQAFYjSwCrBNUjgEB3AgSwO2INBiNAAAlgNbIEsEpQPQIIdCdAALsj1mAwAgSQAFYjSwCrBNUjgEB3AgSwO2INBiNAAAlgNbIEsEpQPQIIdCdAALsj1mAwAgSQAFYjSwCrBNUjgEB3AgSwO2INBiNAAAlgNbIEsEpQPQIIdCdAALsj1mAwAgSQAFYjSwCrBNUjgEB3AgSwO2INBiNAAAlgNbIEsEpQPQIIdCdAALsj1mAwAgSQAFYjSwCrBNUjgEB3AgSwO2INBiNAAAlgNbIEsEpQPQIIdCdAALsj1mAwAgSQAFYjSwCrBNUjgEB3AgSwO2INBiNAAAlgNbIEsEpQPQIIdCdAALsj1mAwAgSQAFYjSwCrBNUjgEB3AgSwO2INBiNAAAlgNbIEsEpQPQIIdCdAALsj1mAwAgSQAFYjSwCrBNUjgEB3AgSwO2INBiNAAAlgNbIEsEpQPQIIdCdAALsj1mAwAgSQAFYjSwCrBNUjgEB3AgSwO2INBiNAAAlgNbIEsEpQPQIIdCdAALsj1mAwAgTwsATwpiSffE4GvzvJ48/598cm+d4z//4HST5+jRwTwDVgmRQBBPZDgADuh7uuyyVAAA9LAD8pycecitu9k/xkkr+Y5JUXCOB3JrnHqe8+lOSda0SWAK4By6QIILAfAgRwP9x1XS4BAnhYAng2ac9J8tAkn5qkid3ZTzsD2Ka5oRBRAliApxQBBHZDgADuhrMu4xAggIcrgB+X5B1Jvj3Jt1wQySaA/zbJ25PcNsnrknx9kl++JMK3S9J+Tj7XJbnl6tWruXKluaAPAgggsDwCBHB5Y2KJ9kuAAB6uAD4qyfcl+ZOTCJ6XtPtOZwd/Kcn1Sf5RkvsnaZeOb74gmk9PcuPZ7wjgfjdk3RFA4HICBFBCELiWAAE8XAH88SQfSPKFa4T+Y5P8apIXJXnaBXXOAK4B1KQIILAMAgRwGeNgKZZDgAAepgC2J4F/M8kXJfmPa8btB5J8MMmjZ9a5B3AmKJMhgMD+CBDA/bHXeZkECOBhCmC7TPv3ktxtkrm56WtPEL8xyY8leeLMIgI4E5TJEEBgfwQI4P7Y67xMAgTw8ASwPczx1uky7lPOxO6F0wMfT53+/R8neU2S35ieBH5SkocnuU+SX5kZWQI4E5TJEEBgfwQI4P7Y67xMAgTw8ATwryRp9/+1d/v9+pnYtXcBtpdFt6d/2+c7psvEd0zye0l+Ick3Jnn9GnElgGvAMikCCOyHAAHcD3ddl0uAAB6eAO46bQRw18T1QwCBtQkQwLWRKThwAgSQAFYjTgCrBNUjgEB3AgSwO2INBiNAAAlgNbIEsEpQPQIIdCdAALsj1mAwAgSQAFYjSwCrBNUjgEB3AgSwO2INBiNAAAlgNbIrdWfdAAAf6ElEQVQEsEpQPQIIdCdAALsj1mAwAgSQAFYjSwCrBNUjgEB3AgSwO2INBiNAAAlgNbIEsEpQPQIIdCdAALsj1mAwAgSQAFYjSwCrBNUjgEB3AgSwO2INBiNAAAlgNbIEsEpQPQIIdCdAALsj1mAwAgSQAFYjSwCrBNUjgEB3AgSwO2INBiNAAAlgNbIEsEpQPQIIdCdAALsj1mAwAgSQAFYjSwCrBNUjgEB3AgSwO2INBiNAAAlgNbIEsEpQPQIIdCdAALsj1mAwAgSQAFYjSwCrBNUjgEB3AgSwO2INBiNAAAlgNbIEsEpQPQIIdCdAALsj1mAwAgSQAFYjSwCrBNUjgEB3AgSwO2INBiNAAAlgNbIEsEpQPQIIdCdAALsj1mAwAgSQAFYjSwCrBNUjgEB3AgSwO2INBiNAAAlgNbIEsEpQPQIIdCdAALsj1mAwAgSQAFYjSwCrBNUjgEB3AgSwO2INBiNAAAlgNbIEsEpQPQIIdCdAALsj1mAwAgSQAFYjSwCrBNUjgEB3AgSwO2INBiNAAAlgNbIEsEpQPQIIdCdAALsj1mAwAgSQAFYjSwCrBNUjgEB3AgSwO2INBiNAAAlgNbIEsEpQPQIIdCdAALsj1mAwAgSQAFYjSwCrBNUjgEB3AgSwO2INBiNAAAlgNbIEsEpQPQIIdCdAALsj1mAwAgSQAFYjSwCrBNUjgEB3AgSwO2INBiNAAAlgNbIEsEpQPQIIdCdAALsj1mAwAgSQAFYjSwCrBNUjgEB3AgSwO2INBiNAAAlgNbIEsEpQPQIIdCdAALsj1mAwAgSQAFYjSwCrBNUjgEB3AgSwO2INBiNAAAlgNbIEsEpQPQIIdCdAALsj1mAwAgSQAFYjSwCrBNUjgEB3AgSwO2INBiNAAAlgNbIEsEpQPQIIdCdAALsj1mAwAgSQAFYjSwCrBNUjgEB3AgSwO2INBiNAAAlgNbIEsEpQPQIIdCdAALsj1mAwAgSQAFYjSwCrBNUjgEB3AgSwO2INBiNAAAlgNbIEsEpQPQIIdCdAALsj1mAwAgTwcATw6UluPJO/NyW55yWZ/OIk35TkTyV5c5InJ/lPa2aYAK4JzOQIILB7AgRw98x1XDYBAnhYAvjIJA86FbkPJvmdCyJ43yT/LclTk/xIkkcneUqSz07yxjViSwDXgGVSBBDYDwECuB/uui6XAAE8LAF8eJLPnBm3/5DkjyZ56KnpX5PkF5M8buY82mQEcA1YJkUAgf0QIID74a7rcgkQwMMSwCcluZrk/UlePZ3de9sF8Wv//u1JnnPq+2ckaRL5GZdE9nZJ2s/J57okt1y9ejVXrjQX9EEAAQSWR4AALm9MLNF+CRDAwxHABye5fZJ239+dpvsB75Lk3kned07MPpDkMUledOq7r5rq7nBJLM+71zAEcL8bsu4IIHA5AQIoIQhcS4AAHo4Ans32DUl+K8kTk3zPTAF8fJKnJbmjM4B2FQggcEgECOAhjaZ12QYBAni4Atjy8dokPzVdCj6bl00vAZ+dj3sAt7ElmgcCCHQlQAC74jXzAQkQwMMVwHY5uEleu2T7Xedksz0E8glJvvDUdz+b5Jc8BDLglmyREUDgUgIEUEAQcAn4bAZucyCheHaSH54u+945SXugoz0RfK8k707ywiRvP3U28POT/PT07r8fTfKlSb7ea2AOJA1WAwEEriFAAAUCAQJ4qAL44iT3T/KJk/C9Ksk3JHnLtMKvTHJTkseeAtBeBP3Np14E/XVeBL39XYQDz/aZmiMC6xKwHa5LzPSHTsAl4MO9BLyr7LoHcAVpB55dRVEfBC4mYDuUDgScATzUM4D7yjYBJID7yp6+CMwmQABnozLhkRBwBtAZwGrUCSABrGZIPQLdCRDA7og1GIwAASSA1cgSQAJYzZB6BLoTIIDdEWswGAECSACrkSWABLCaIfUIdCdAALsj1mAwAgSQAFYjSwCPVAAdUKubjvpdEpDXXdLWawQCBJAAVnNKAAngrQRueuZDqllSj0A3AgSwG1ozHpQAASSA1egSQAJIAKtbkfruBAhgd8QaDEaAABLAamQJIAEkgNWtSH13AgSwO2INBiNAAAlgNbIEkAASwOpWpL47AQLYHbEGgxEggASwGlkCSAAJYHUrUt+dAAHsjliDwQgQQAJYjSwBJIAEsLoVqe9OgAB2R6zBYAQIIAGsRpYAEkACWN2K1HcnQAC7I9ZgMAIEkABWI0sACSABrG5F6rsTIIDdEWswGAECSACrkSWABJAAVrci9d0JEMDuiDUYjAABJIDVyA4hgKd3/rt+YfGhHngOdb2qG4T6ZRKQ12WOi6XaHwECSACr6SOAzgA6A1jditR3J0AAuyPWYDACBJAAViNLAAkgAaxuReq7EyCA3RFrMBgBAkgAq5ElgASQAFa3IvXdCRDA7og1GIwAASSA1cgSQAJIAKtbkfruBAhgd8QaDEaAABLAamQJIAEkgNWtSH13AgSwO2INBiNAAAlgNbIEkAASwOpWpL47AQLYHbEGgxEggASwGlkCSAAJYHUrUt+dAAHsjliDwQgQQAJYjSwBJIAEsLoVqe9OgAB2R6zBYAQIIAGsRpYAEkACWN2K1HcnQAC7I9ZgMAIEkABWI0sACSABrG5F6rsTIIDdEWswGAECSACrkSWABJAAVrci9d0JEMDuiDUYjAABJIDVyBJAAkgAq1uR+u4ECGB3xBoMRoAAEsBqZAkgASSA1a1IfXcCBLA7Yg0GI0AACWA1sgSQABLA6lakvjsBAtgdsQaDESCABLAaWQJIAAlgdStS350AAeyOWIPBCBBAAliNLAEkgASwuhWp706AAHZHrMFgBAggAaxGlgASQAJY3YrUdydAALsj1mAwAgSQAFYjSwAJIAGsbkXquxMggN0RazAYAQJIAKuRJYAEkABWtyL13QkQwO6INRiMAAEkgNXIEkACSACrW5H67gQIYHfEGgxGgAASwGpkCSABJIDVrUh9dwIEsDtiDQYjQAAJYDWyBJAAEsDqVqS+OwEC2B2xBoMRIICHI4BPTfJFSe6Z5P8k+dkkT07ypksy+dgk33vm+z9I8vFr5JgAEkACuMYGY9L9ECCA++Gu63IJEMDDEcD/nOTFSV6b5I8k+ZYk905yryT/+4IINgH8ziT3OPX9h5K8c43IEkACSADX2GCOZdKlCdfSludYcmA9l0uAAB6OAJ5N2ScleVeSByT56UsE8DlJbihElAASQAJY2IAOtXRpwrW05TnUcbde4xAggIcrgHdP8uYkn5bkjZcI4L9N8vYkt03yuiRfn+SX14gwASSABHCNDeZYJl2acC1teY4lB9ZzuQQI4GEKYJO5H5rO7P2FS+J33ySfmuSXklyf5B8luf906fjmC+pul6T9nHyuS3LL1atXc+VKc8Flfk7v/G965kN2upCHeuA51PXaaTgOuNnS8rG05TngobdqgxAggIcpgP8iyYOTNPm7ZY0sfmySX03yoiRPu6Du6UluPPsdAbyY8qEeeA51vdbYXkx6CYGl5WNpyyM8COybAAE8PAF8XpKHTWfy3rpBwH4gyQeTPNoZwA3onVNyqAeeXa/XPs/ibicJxzWXXedjFd2lLc+q5fU9Ar0JEMDDEcDbJHlukkckeeB0/9+6+fmY6X7BH0vyxJnF7gFcAepQDzy7Xi8COHOLXMhku87HqtVe2vKsWl7fI9CbAAE8HAH87iRfNp39O/3uv6vTewFbll44PfDR3hnYPv84yWuS/MZ0v+CTkjw8yX2S/MrM8BFAAngrgd73VhLAmVvkQiZbmnAtbXkWMkwW44gJEMDDEcD2/r7zPl+e5PnTF69sx+kk7f1/7fMd08uj75jk95L8QpJvTPL6NbYJAkgACeAaG8yxTLo04Vra8hxLDqzncgkQwMMRwH2ljAASQAK4r61vwX2XJlxLW54FD51FOxICBJAAVqNOAAngXgTQAb266fatX9r4LG15+tI3dwRWEyCABHB1Si6fggASQAJY3YoOsH5pwrW05TnAIbdKgxEggASwGlkCSAAJYHUrOsD6pQnX0pbnAIfcKg1GgAASwGpkCSABJIDVregA65cmXEtbngMccqs0GAECSACrkSWABJAAVreiA6xfmnAtbXkOcMit0mAECCABrEaWABJAAljdig6wfmnCtbTlOcAht0qDESCABLAa2YMVwG0dMLY1n+pAbbt+1+t19kXQu+6/bX6HPr+ljc/SlufQx9/6LZ8AASSA1ZQSQGcAnQGsbkUHWL804Vra8hzgkFulwQgQQAJYjSwBJIAEsLoVHWD9psLV60/+bbo8Bzg0VgmBWwkQQAJY3RQIIAEkgNWt6ADrNxUuAniAYTjiVdp0O9gFMgJIAKs5I4AEkABWt6IDrN/0wLc0Aey1PAc45FbpHAKbbge7gEkACWA1ZwSQABLA6lZ0gPWbHvh6CdfSlucAh9wqEcDhMnCb4ZZ4WQtMAAlgWQDnHPQ9BbysDX/V0ixNuJa2PKv4+f4wCGyau12svTOAzgBWc0YACSABrG5FB1i/6YFvzi8Dm+Ba2vJssg5qxiOwae52saYEkABWc0YACSABrG5FB1i/6YGPAB5gGI54lTbdDnaBjAASwGrOCGAnAex1IKwO+En9Nndsc9bVJeBtjdxu5rNpPuZkYZM1WNrybLIOh1yz6fgsncmS14sAEsDq9kMANxDAOQe5OdNUB69Sv80d25x13aUAzlmeCrtDqz0vC5vmoxf7pS3PoWWguj6rMnTTMx9SbbGX+k1zt4uFJYAEsJozAniG4BxRmXOQmzNNdfAq9dvcsc1Z1zlcK+tzunbO8myr1yHMZ9XBu63j3AN4L/ab5rXX8hzCuG9zHVZlaG5+trlM25jXprnbRu9V8yCABHBVRlZ9TwAJ4K0EKjvoOQfZbQngJr1WbQTH/v2qg/c6+ZgzPpvw3vRA3Gt5NlmHQ65ZlaHK/mWf3DbN3S6WmQASwGrO9i6Ac3bQc6Y5C2LTDXeOqMxZnjnTVAevUr8pn/N6zlnXOVznrM8mvebM95inWXXwJoAfnY5tbj+HkL1VGSKA2x9lAkgAq6kigM4ArnUGcNMdPQGsbqr96leN6bEJ4By5mzNNvxFb3pxXZYgAbn/MCCABrKaKAG5BAHvu/Oac8dokBJsewDZdVwK4ySj1qTk7hme7tIP1NvKxzYP+LpdnTq8502x6trzPqPed66b7hb5LVZ/7puNc77x6DgSQAK5OyeVTEMA9CuAcuZszzSYh2HTHtumOngB+ZJQ2Zb/JOK+SkPO+J4A/eg2W80R20zHstT1vKxubzmfT/cKm/XZVt+k472L5CCABrOaMABLAWwnMPVuz6Y6eAG5fADc9ODkDePlucw7XOdOsku+521x1J7+L+k33C7tYtkqPTce50nNuLQEkgHOzctF0BJAAEsDqVrRm/bYOKpvOhwASwDUju3JyArgS0dYnIIAEsBoqArggAdzlTnRb8nD2cuFFZzWcAXQGsLKz2kZet5nNnstT4bSv2l3uu3a5jpuO8y6WkQASwGrOCCABdAawuhWtWb+tg8qm83EG8NoB2+SXk22wdwl4zQ1nD5NvOs67WFQCSACrOSOABJAAFraiTW7q39ZBZdVZl7Zacx5gOLv6x/YQCAFcfwOYw2yTbWP9Jelbsa1ttcdSEkACWM3VUQvgqgPoRQfCbe38tjWfTUIwZ8e2is+JYMzZ0W9rXTfpdR6fOfOZw3WT+cxhv27v88aCAOaa19m4BPzRqdo0i9vanufkfJ/TbMpnF8tMAAlgNWcE8BTB8+5nWyVBcyVxjoTM6bVqPhcd9M/WzdmxrVqe3gK4qv/cA/oqZpVLcUsXwDln9+ZMM5fRJjzm7MTm5HXTcZ4jM5tsP5suzxwe25pmW1w33Va3tR695rMpn17Lc3q+BJAAVnNGAAngrQTmXCrctexuelCZIyFzppmzcW0yn03Xa46EnJ33HLmbM82mD/vMYThnmk0PxHPkbs40c9ivux6bSPXcX/DmLEubZpdc5y7TkqbblM8u1oEAEsBqzgjgjgRwzkF/zjSrzirMPUDM2bGtWp6TXnMkaM5BdpNpVvGonCWcc9Cfs+77ms95bM6T+J4COCdnc3Zim85nk0zN6bXpNNvKyxxmc6ZZtY3P3X42nc+cZZwzzSZc153v3H3rnPluYxoCSACrOVqcAG5rR7KtHfSc5dnlNKuEZ+5Oaht8LhLAJfGYewCbsyHNWa8lzYcAfvQ9gHPGcNNtY5+iP/ds4raWcROxnrNtbDoNAcx7N2U3ct1tRl74BSw7ATw1CD3vAdz0wDNnxzbngDVnxz9nmm2tx7bms0qICeC1hJZ4BnBOfudMMycLm+ZuzrYxZ5p1xWmuxBPAj/z5vk1ZrMrP3F+ud3VcdwbQGcBq1o5KANfd+c69523Tg0qP5Zm7k5pzQF21Xs4APmTWU6abiMGcDXvO+JydzyEJ4Lq/HFW25zljOGeadbf5QxfAOWO47rawxF/65qzDutMQQAK4bmbOTj+kAG5DXioHg3V34rvsdZEAnmV2nhisewAjgB8tgD2zucn4LFEA52w/667r3IP+Kmme+w7EnuM8Z1ud03/OwWEOj1Vnxubu33Y5nzm9tsVnW2MxZ3lOT0MACeC6mSGAE4G5O605O8glTVMRwE0PPHMO6L2m2XRHP+fMw7aWeROZmXNQWZW7uWeP5kjipk8Br1rGinDtcgy3lYV15zN3DDe97DlnfOZsY0ubz6bL3GtbrR6oz6sngASwmitnAE8RHOEewFU7WgK42ct/Nz1grHtAr/zise7Baa48EMBr7x9btY1VxnDdvMwdQwK4+h7AddlXxrl6YJ5TTwAPTwAfn+RJSe6Y5A1JnpDk5y8Jwxcn+ab2Oqckb07y5CT/aU54pmkORgB3uXEvuRcB3OzJTwL4EQJzD3w9ma0ru3OXeUlyN2eZKwK4jbPIvS+tL3lfOmd85p7BXuOYPHtSAnhYAvglSV6Y5HFJfi7J1yZpgnePJO86JxX3TfLfkjw1yY8keXSSpyT57CRvnJmirgJ4qBv3ktdr7gFjzlmfOdMcwlnTyo5+X1kwzvPuv9zX+GwrU8b5MMZ55vF4rckI4GEJYJO+1yb56ikFt01yc5LnJnnmOcn4D0n+aJKHnvruNUl+cZLIOWEigKcoHYLMOGAcxgFj1Zkq42ycL9vBb/Np71VZ3JbsHvJ85hyM152GAB6OAH5ckt9P8sgkLzsVhBckuSHJw84Jx9uSfHuS55z67hlJHp7kMy4I0+2StJ+Tz3VJbrn55ptz5Upzwe1+7n3jj394hm98xl/N6f9vX5z9N9N8hNemfM4bwfO4np1u02mM4X4ybpyv3Z8c6r7DOB/GOG/3yPr/59YE8G53u1v7z+vb//bosfR5HsqLoO+c5O1JPj/Jq09B/9YkD0jyuecMxAeSPCbJi05991VJbkxyhwsG7unT90sfV8uHAAIIIIAAAqsJ3HXyh9VTHtgUhy6Az0ryBUk+b6YAtodInjY9RHLeUJ89A9im+eNJ3tMpF7eeYUzSAvq+Tj3M9v8TwHo3ScAZ590Q2F0Xmd4N6x6c2zzfkeRDu1mFZXU5FAHc1SXgXY/erfcYHvMp6h0Cx3o3sHHGeTcEdtdFpnfDGuctcz4UAWxY2kMg7ZUv7dUv7dMeAmn3+T3vkodAPiHJF55i+rNJfmmNh0C2PBwfNTuB7034I/PHejesccZ5NwR210Wmd8Ma5y1zPiQBPHkNzFdMItheA/OoJPdM8s7pFTHtPsH22pf2afcL/vT07r/2FswvTfL1a74GZsvDQQB7A71k/nYuu4GPM867IbC7LjK9G9Y4b5nzIQlgQ9NeAXPyIuj2Opevmc4Mtu9emeSmJI89xbC9J/CbT70I+uvWfBH0lofjo2bX7jlswvpPk/xB72ZHPn+sdxMAnHHeDYHddZHp3bDGecucD00At4zH7BBAAAEEEEAAgcMjQAAPb0ytEQIIIIAAAgggcCkBAiggCCCAAAIIIIDAkREggEc24FYXAQQQQAABBBAggDKAAAIIIIAAAggcGQECuOwBb3+Z5OSp5jdM7zhs7zr02YxAe6L6i6ZXA/2fJO29j09O8qZTs/v4JN82vRaoPXXW/lht+xOB7VVCPpsRaNy/Jcl3JmmvZ2ofnDdjeV7VXZL8syQPTtLebfobSb48yX+fJm77+fZ3zv/u9LfRfybJVyZ58/YW4eDn9DFJ2p8C/ZvTX4pqfz3i+dNbJE7+igTOm8Xg/tNx7j5J7pTkEUledmpWc7i2v8j13Om9vv83yUuS/P0k/2uzRTqOKgK43HE+ea/h46ZX2bQDZ3ttzT2SvGu5i73oJfvPSV6c5LVJ/sgkJfdOcq8k/3ta8n+R5CHT64LaX2FpLxJvO5T7LXrNlrtwfy7J909/bP0VpwQQ5+2M2R9L8vokjW1j+u4kn5rkLdNP69J+yWkS3l6B9ZtJvinJp025f/92FuPg59LeEfvE6e/H/3KSz0nyvUm+Icl3TWuP82YxaL+4tP3r6yZxOyuAc7j+2CSPfy/Jx05j0/bzX7bZIh1HFQFc7ji3v2zSAtzebdg+7S+b3Dz9lvPM5S72UEv2SZNMP2B6Kfj10wG07TR+cFqT9iLxX01y3ySvGWrt9r+wt5926u0M6jcmae/mbL/I4Ly9sWn7gnbwbH/z/LxP28e3s1XtrPazpwka/3ZGuwlh+4XIZzWBH5mY/e1Tk7azTO1KQjsriPNqhnOmaGdTTwvgHK5/NsmvJGm/bJ6c9f5r0zt97zrlf07vo5uGAC5zyDf528bLXJNlL9Xdp8tg7WzIG5P8pSQvT9LOqvzPU4v+W0mek+Q7lr06i1u6FyR5T5J/ML2I/UQAcd7eULUDX7tNoR3o2i8y7a8dfXeSfzO1+JTpTOBnTQJ+0vm/Tv/fLpP5rCbQzgC2vzL1V5L8epLPSPIT01nBf58E59UM50xxVgDncP1b0y84bb998mlXeNrZ7XbV7KVzGh/jNARwmaN+52lH3v5c3atPLeK3Tjv5z13mYg+1VO2M6g9N90T9hWnJ25m/dlmn3ft3+tPuu2yX2NqlCJ95BNqfVmyXx9pv5W1H3P4Sz4kA4jyP4ZypTi7hfnuSH0jy56dfVtqlsBdOf/Ky3fPX9im/fWqG7bJ8O9i2W018VhNo+4t2H2v7a1F/mKTdE9jy3f5KU/u0fTXOqzmumuKsAM7h2uT8MdPtUafn326VunG6NWJV36P8ngAuc9gvEsBnTZd6Pm+Ziz3UUrX7pdq9J03+blkhgO1SfDsz+JSh1nB/C3u36VJMO1vSHl5qnzkCiPP6Y/aBiXU7UJ582j1pTbzbbQsXHUCbLDaRaaLus5pA49T2v+2hvHYP4GdOot3uC2xnunFezXDOFHMF8HR+LxLAdj/s05L8yzmNj3EaArjMUXcJuO+4tAc7HpakPX321lOtXJrcDveHT5ddmmCcfNoZk7Zzbw/U/NUkP+VS+1Zgt9sTfjLJ3zk1t/aEb7vnsj0dPOcS2lYW5MBn0u6/bvdb/vNT69kYt/v/2n3COG8nAC4Bb4fjrLkQwFmY9jJRewikXXp8wtS9XYJ42/RUqodANhuSlvf2qoB2k/EDz3kNxsnDCY+enkZrXf7M9JoYD4HMZ35dkk8+M3m7tP5r0+tK2sG0/XaO83ymF035fUnaGdfTD4G0e1XbbSLtrNTJTfTtAZD2IEj7XJkefvIQyHz+vztJdbtycPJpT1a31+20fQTO81leNuVFD4Fclt+Th0Dak9m/MM28XX1ob33wEMgltAngdkLbYy4nr4FpNx43EWxPTz5q+m3TO+k2I95ujm/3n7Wzf6ff/dde99Ke5muftoP/69MTku+dhLH9++lLbJt1P+6q05eAcd5eFtql3vY+y3avU7uvr90D2B4AafuN9nBC+7R7V9vtC+0+qXbGu70G5tO9BmatQWjv/HtQknZvZbsE3B6q+ddJ/t2pe4NxXgvphydubwtoD+S1T3ulUbus3u65bg+QtZMec7i218DcIUl7bdrJa2DaE8FeA0MAN0vlAqraK2BOXgTdbqD/mumdgAtYtCEX4eSFrWcXvv0W33bw7XPyguJ2dur0i6D/x5BrvJyFPiuAOG9vbB46PYzQ3v/XBK89EHLyFHDrcvIi3SaFNyR51fRy8/Y0q888Au2sdhPndvXgT0yvFnlRkn+SpN2HifM8judN1a7GNOE7+2n3Vraz1HPy214E3W7t+cLpNpP2ip52vPQiaAK4eTJVIoAAAggggAACh0bAJeBDG1HrgwACCCCAAAIIrCBAAEUEAQQQQAABBBA4MgIE8MgG3OoigAACCCCAAAIEUAYQQAABBBBAAIEjI0AAj2zArS4CCCCAAAIIIEAAZQABBBBAAAEEEDgyAgTwyAbc6iKAAAIIIIAAAgRQBhBAAAEEEEAAgSMjQACPbMCtLgIIIIAAAgggQABlAAEEEEAAAQQQODICBPDIBtzqIoAAAggggAACBFAGEEAAAQQQQACBIyNAAI9swK0uAggggAACCCBAAGUAAQQQQAABBBA4MgIE8MgG3OoigAACCCCAAAIEUAYQQAABBBBAAIEjI0AAj2zArS4CCCCAAAIIIEAAZQABBBBAAAEEEDgyAgTwyAbc6iKAAAIIIIAAAgRQBhBAAAEEEEAAgSMjQACPbMCtLgIIIIAAAgggQABlAAEEEEAAAQQQODICBPDIBtzqIoAAAggggAACBFAGEEAAAQQQQACBIyNAAI9swK0uAggggAACCCBAAGUAAQQQQAABBBA4MgIE8MgG3OoigAACCCCAAAIEUAYQQAABBBBAAIEjI0AAj2zArS4CCCCAAAIIIEAAZQABBBBAAAEEEDgyAgTwyAbc6iKAAAIIIIAAAv8PSj1TDPfGU7QAAAAASUVORK5CYII=\" width=\"640\">"
            ],
            "text/plain": [
              "<IPython.core.display.HTML object>"
            ]
          },
          "metadata": {},
          "output_type": "display_data"
        }
      ],
      "source": [
        "# You may wish to view the PageRank graphically.\n",
        "# This code will draw a bar chart, for each (numbered) website on the generated internet,\n",
        "# The height of each bar will be the score in the PageRank.\n",
        "# Run this code to see the PageRank for each internet you generate.\n",
        "# Hopefully you should see what you might expect\n",
        "# - there are a few clusters of important websites, but most on the internet are rubbish!\n",
        "%pylab notebook\n",
        "r = pageRank(generate_internet(100), 0.9)\n",
        "plt.bar(arange(r.shape[0]), r);"
      ]
    },
    {
      "cell_type": "code",
      "execution_count": null,
      "metadata": {
        "collapsed": true,
        "id": "GUthGxPvEV0c"
      },
      "outputs": [],
      "source": []
    }
  ],
  "metadata": {
    "coursera": {
      "course_slug": "linear-algebra-machine-learning",
      "graded_item_id": "Sfbnp",
      "launcher_item_id": "aPxf3"
    },
    "kernelspec": {
      "display_name": "Python 3",
      "language": "python",
      "name": "python3"
    },
    "language_info": {
      "codemirror_mode": {
        "name": "ipython",
        "version": 3
      },
      "file_extension": ".py",
      "mimetype": "text/x-python",
      "name": "python",
      "nbconvert_exporter": "python",
      "pygments_lexer": "ipython3",
      "version": "3.6.2"
    },
    "colab": {
      "provenance": []
    }
  },
  "nbformat": 4,
  "nbformat_minor": 0
}